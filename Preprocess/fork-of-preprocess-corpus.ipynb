{
 "cells": [
  {
   "cell_type": "code",
   "execution_count": 1,
   "metadata": {
    "_cell_guid": "b1076dfc-b9ad-4769-8c92-a6c4dae69d19",
    "_uuid": "8f2839f25d086af736a60e9eeb907d3b93b6e0e5"
   },
   "outputs": [],
   "source": [
    "import numpy as np\n",
    "import pandas as pd\n",
    "import warnings\n",
    "warnings.filterwarnings('ignore')\n",
    "\n",
    "\n",
    "import re\n",
    "from sklearn.model_selection import train_test_split\n",
    "import nltk\n",
    "from nltk.tokenize import word_tokenize,sent_tokenize\n",
    "from nltk.corpus import stopwords\n",
    "from nltk.tokenize import RegexpTokenizer\n",
    "import gensim \n",
    "from sklearn.feature_extraction.text import CountVectorizer\n",
    "from nltk.stem import WordNetLemmatizer, PorterStemmer \n",
    "import string\n",
    "import spacy\n",
    "from sklearn.ensemble import GradientBoostingRegressor\n",
    "from sklearn.metrics import mean_squared_error\n",
    "from math import sqrt\n",
    "from sklearn.ensemble import RandomForestRegressor, BaggingRegressor\n",
    "import xgboost as xgb\n",
    "from collections import defaultdict"
   ]
  },
  {
   "cell_type": "code",
   "execution_count": 2,
   "metadata": {
    "_cell_guid": "79c7e3d0-c299-4dcb-8224-4455121ee9b0",
    "_uuid": "d629ff2d2480ee46fbb7e2d37f6b5fab8052498a"
   },
   "outputs": [],
   "source": [
    "train_df =  pd.read_csv('../input/new-575-train-test/new_train.csv', sep = \"\\t\")\n",
    "train_df = train_df.fillna('')\n",
    "test_df = pd.read_csv('../input/new-575-train-test/new_test.csv', sep = \"\\t\")\n",
    "test_df = test_df.fillna('')"
   ]
  },
  {
   "cell_type": "code",
   "execution_count": 3,
   "metadata": {
    "_uuid": "092864df5da6984abc8201aaec40a2ef0d1fd06a"
   },
   "outputs": [],
   "source": [
    "df_all = pd.concat((train_df, test_df), axis=0, ignore_index=True)"
   ]
  },
  {
   "cell_type": "code",
   "execution_count": 4,
   "metadata": {
    "_uuid": "886d837b7dcd6e676176630ebbb83f0628f7c4b0"
   },
   "outputs": [],
   "source": [
    "table = str.maketrans(dict.fromkeys(string.punctuation))\n",
    "porter = nltk.PorterStemmer()\n",
    "#nlp = spacy.load('en_core_web_lg')\n",
    "num_train = train_df.shape[0]\n",
    "random_st = 1024"
   ]
  },
  {
   "cell_type": "code",
   "execution_count": 5,
   "metadata": {
    "_uuid": "4a0e2b910bbb0a69c856a046181216913acb5328"
   },
   "outputs": [],
   "source": [
    "def process_3(text):\n",
    "    text = text.lower().translate(table)\n",
    "    tokens = word_tokenize(text)\n",
    "    return \" \".join(tokens)\n"
   ]
  },
  {
   "cell_type": "code",
   "execution_count": 6,
   "metadata": {
    "_uuid": "d20b2897b05a56fe99115f1623cb4b3e35e696e6"
   },
   "outputs": [],
   "source": [
    "#df_all = df_all[:10]"
   ]
  },
  {
   "cell_type": "code",
   "execution_count": 7,
   "metadata": {
    "_uuid": "0bbffe216b8d8baf9c3c7d041c6c195171858c5c"
   },
   "outputs": [],
   "source": [
    "df_all[\"product_description_tokens\"] = df_all[\"product_description\"].apply(lambda x : process_3(x))\n",
    "df_all[\"product_title_tokens\"] = df_all[\"product_title\"].apply(lambda x : process_3(x))\n",
    "df_all[\"search_term_tokens\"] = df_all[\"search_term\"].apply(lambda x : process_3(x))\n",
    "df_all[\"attribute_tokens\"] = df_all[\"attribute\"].apply(lambda x : process_3(x))"
   ]
  },
  {
   "cell_type": "code",
   "execution_count": 8,
   "metadata": {
    "_uuid": "b53038c7bb3bf163881fa43a9d6100e5071e1c32"
   },
   "outputs": [],
   "source": [
    "df_all[\"product_description_stemmed\"] = df_all[\"product_description_tokens\"].apply(lambda x : \" \".join([porter.stem(w) for w in x.split(\" \") if w.isalpha()]))\n",
    "df_all[\"product_title_stemmed\"] = df_all[\"product_title_tokens\"].apply(lambda x : \" \".join([porter.stem(w) for w in x.split(\" \") if w.isalpha()]))\n",
    "df_all[\"search_term_stemmed\"] = df_all[\"search_term_tokens\"].apply(lambda x : \" \".join([porter.stem(w) for w in x.split(\" \") if w.isalpha()]))\n",
    "df_all[\"attribute_stemmed\"] = df_all[\"attribute_tokens\"].apply(lambda x : \" \".join([porter.stem(w) for w in x.split(\" \") if w.isalpha()]))"
   ]
  },
  {
   "cell_type": "code",
   "execution_count": 9,
   "metadata": {
    "_uuid": "030557104c4dc0e15fe7f58b14e99bac2088c96f"
   },
   "outputs": [
    {
     "data": {
      "text/html": [
       "<div>\n",
       "<style scoped>\n",
       "    .dataframe tbody tr th:only-of-type {\n",
       "        vertical-align: middle;\n",
       "    }\n",
       "\n",
       "    .dataframe tbody tr th {\n",
       "        vertical-align: top;\n",
       "    }\n",
       "\n",
       "    .dataframe thead th {\n",
       "        text-align: right;\n",
       "    }\n",
       "</style>\n",
       "<table border=\"1\" class=\"dataframe\">\n",
       "  <thead>\n",
       "    <tr style=\"text-align: right;\">\n",
       "      <th></th>\n",
       "      <th>attribute</th>\n",
       "      <th>id</th>\n",
       "      <th>product_description</th>\n",
       "      <th>product_title</th>\n",
       "      <th>product_uid</th>\n",
       "      <th>relevance</th>\n",
       "      <th>search_term</th>\n",
       "      <th>product_description_tokens</th>\n",
       "      <th>product_title_tokens</th>\n",
       "      <th>search_term_tokens</th>\n",
       "      <th>attribute_tokens</th>\n",
       "      <th>product_description_stemmed</th>\n",
       "      <th>product_title_stemmed</th>\n",
       "      <th>search_term_stemmed</th>\n",
       "      <th>attribute_stemmed</th>\n",
       "    </tr>\n",
       "  </thead>\n",
       "  <tbody>\n",
       "    <tr>\n",
       "      <th>0</th>\n",
       "      <td>Versatile connector for various 90 connections...</td>\n",
       "      <td>2</td>\n",
       "      <td>Not only do angles make joints stronger, they ...</td>\n",
       "      <td>Simpson Strong-Tie 12-Gauge Angle</td>\n",
       "      <td>100001</td>\n",
       "      <td>3.00</td>\n",
       "      <td>angle bracket</td>\n",
       "      <td>not only do angles make joints stronger they a...</td>\n",
       "      <td>simpson strongtie 12gauge angle</td>\n",
       "      <td>angle bracket</td>\n",
       "      <td>versatile connector for various 90 connections...</td>\n",
       "      <td>not onli do angl make joint stronger they also...</td>\n",
       "      <td>simpson strongti angl</td>\n",
       "      <td>angl bracket</td>\n",
       "      <td>versatil connector for variou connect and home...</td>\n",
       "    </tr>\n",
       "    <tr>\n",
       "      <th>1</th>\n",
       "      <td>Versatile connector for various 90 connections...</td>\n",
       "      <td>3</td>\n",
       "      <td>Not only do angles make joints stronger, they ...</td>\n",
       "      <td>Simpson Strong-Tie 12-Gauge Angle</td>\n",
       "      <td>100001</td>\n",
       "      <td>2.50</td>\n",
       "      <td>l bracket</td>\n",
       "      <td>not only do angles make joints stronger they a...</td>\n",
       "      <td>simpson strongtie 12gauge angle</td>\n",
       "      <td>l bracket</td>\n",
       "      <td>versatile connector for various 90 connections...</td>\n",
       "      <td>not onli do angl make joint stronger they also...</td>\n",
       "      <td>simpson strongti angl</td>\n",
       "      <td>l bracket</td>\n",
       "      <td>versatil connector for variou connect and home...</td>\n",
       "    </tr>\n",
       "    <tr>\n",
       "      <th>2</th>\n",
       "      <td>Brush,Roller,Spray 6.63 in 7.76 in 6.63 in Rev...</td>\n",
       "      <td>9</td>\n",
       "      <td>BEHR Premium Textured DECKOVER is an innovativ...</td>\n",
       "      <td>BEHR Premium Textured DeckOver 1-gal. #SC-141 ...</td>\n",
       "      <td>100002</td>\n",
       "      <td>3.00</td>\n",
       "      <td>deck over</td>\n",
       "      <td>behr premium textured deckover is an innovativ...</td>\n",
       "      <td>behr premium textured deckover 1gal sc141 tugb...</td>\n",
       "      <td>deck over</td>\n",
       "      <td>brushrollerspray 663 in 776 in 663 in revives ...</td>\n",
       "      <td>behr premium textur deckov is an innov solid c...</td>\n",
       "      <td>behr premium textur deckov tugboat wood and co...</td>\n",
       "      <td>deck over</td>\n",
       "      <td>brushrollerspray in in in reviv wood and compo...</td>\n",
       "    </tr>\n",
       "    <tr>\n",
       "      <th>3</th>\n",
       "      <td>Combo Tub and Shower No Includes the trim kit ...</td>\n",
       "      <td>16</td>\n",
       "      <td>Update your bathroom with the Delta Vero Singl...</td>\n",
       "      <td>Delta Vero 1-Handle Shower Only Faucet Trim Ki...</td>\n",
       "      <td>100005</td>\n",
       "      <td>2.33</td>\n",
       "      <td>rain shower head</td>\n",
       "      <td>update your bathroom with the delta vero singl...</td>\n",
       "      <td>delta vero 1handle shower only faucet trim kit...</td>\n",
       "      <td>rain shower head</td>\n",
       "      <td>combo tub and shower no includes the trim kit ...</td>\n",
       "      <td>updat your bathroom with the delta vero single...</td>\n",
       "      <td>delta vero shower onli faucet trim kit in chro...</td>\n",
       "      <td>rain shower head</td>\n",
       "      <td>combo tub and shower no includ the trim kit on...</td>\n",
       "    </tr>\n",
       "    <tr>\n",
       "      <th>4</th>\n",
       "      <td>Combo Tub and Shower No Includes the trim kit ...</td>\n",
       "      <td>17</td>\n",
       "      <td>Update your bathroom with the Delta Vero Singl...</td>\n",
       "      <td>Delta Vero 1-Handle Shower Only Faucet Trim Ki...</td>\n",
       "      <td>100005</td>\n",
       "      <td>2.67</td>\n",
       "      <td>shower only faucet</td>\n",
       "      <td>update your bathroom with the delta vero singl...</td>\n",
       "      <td>delta vero 1handle shower only faucet trim kit...</td>\n",
       "      <td>shower only faucet</td>\n",
       "      <td>combo tub and shower no includes the trim kit ...</td>\n",
       "      <td>updat your bathroom with the delta vero single...</td>\n",
       "      <td>delta vero shower onli faucet trim kit in chro...</td>\n",
       "      <td>shower onli faucet</td>\n",
       "      <td>combo tub and shower no includ the trim kit on...</td>\n",
       "    </tr>\n",
       "  </tbody>\n",
       "</table>\n",
       "</div>"
      ],
      "text/plain": [
       "                                           attribute                        ...                                                          attribute_stemmed\n",
       "0  Versatile connector for various 90 connections...                        ...                          versatil connector for variou connect and home...\n",
       "1  Versatile connector for various 90 connections...                        ...                          versatil connector for variou connect and home...\n",
       "2  Brush,Roller,Spray 6.63 in 7.76 in 6.63 in Rev...                        ...                          brushrollerspray in in in reviv wood and compo...\n",
       "3  Combo Tub and Shower No Includes the trim kit ...                        ...                          combo tub and shower no includ the trim kit on...\n",
       "4  Combo Tub and Shower No Includes the trim kit ...                        ...                          combo tub and shower no includ the trim kit on...\n",
       "\n",
       "[5 rows x 15 columns]"
      ]
     },
     "execution_count": 9,
     "metadata": {},
     "output_type": "execute_result"
    }
   ],
   "source": [
    "df_all.head()"
   ]
  },
  {
   "cell_type": "code",
   "execution_count": 10,
   "metadata": {
    "_uuid": "71768770f5c105b68ddae86383c5d745323e16fa"
   },
   "outputs": [],
   "source": [
    "df_all.to_csv(\"df_all_toeknized.csv\",index = None, sep = \"\\t\")"
   ]
  },
  {
   "cell_type": "code",
   "execution_count": 11,
   "metadata": {
    "_uuid": "70f02d5fb98341e303b85c0fdee4e6e2e1eaad49"
   },
   "outputs": [],
   "source": [
    "train_df = df_all.iloc[:num_train]\n",
    "train_df.to_csv(\"feature_train.csv\",index = None, sep = \"\\t\")\n",
    "test_df = df_all.iloc[num_train:]\n",
    "test_df.to_csv(\"feature_test.csv\",index = None, sep = \"\\t\")"
   ]
  },
  {
   "cell_type": "code",
   "execution_count": 12,
   "metadata": {
    "_uuid": "191009732270829062178d94e2122dee51f3c1d1"
   },
   "outputs": [],
   "source": [
    "product_expand_raw_search_3 = defaultdict(set)\n",
    "product_expand_raw_search_2 = defaultdict(set)\n",
    "\n",
    "for ind, row in train_df.iterrows():\n",
    "    if row[\"relevance\"] == 3:\n",
    "        for i in row[\"search_term\"].split(\" \"):\n",
    "            product_expand_raw_search_3[row[\"product_uid\"]].add(i)\n",
    "    elif row[\"relevance\"] >= 2.67:\n",
    "        for i in row[\"search_term\"].split(\" \"):\n",
    "            product_expand_raw_search_2[row[\"product_uid\"]].add(i)"
   ]
  },
  {
   "cell_type": "code",
   "execution_count": 13,
   "metadata": {
    "_uuid": "366e871bc3bc7a331fcc9f1fabbad93325b03e5a"
   },
   "outputs": [],
   "source": [
    "r_dt = []\n",
    "for k,v in product_expand_raw_search_3.items():\n",
    "    r_dt.append([k,\" \".join(list(v))])\n",
    "\n",
    "product_expand_3 = pd.DataFrame(r_dt, columns = [\"product_uid\",\"expand_3\"])"
   ]
  },
  {
   "cell_type": "code",
   "execution_count": 14,
   "metadata": {
    "_uuid": "14c034692bf6f8cb36eb45a354c77c79f71b86c3"
   },
   "outputs": [],
   "source": [
    "r_dt = []\n",
    "for k,v in product_expand_raw_search_2.items():\n",
    "    r_dt.append([k,\" \".join(list(v))])\n",
    "\n",
    "product_expand_2 = pd.DataFrame(r_dt, columns = [\"product_uid\",\"expand_2\"])"
   ]
  },
  {
   "cell_type": "code",
   "execution_count": 15,
   "metadata": {
    "_uuid": "214039e36aeaf310a9f40d95e3e9c199895ea068"
   },
   "outputs": [],
   "source": [
    "total_expand = product_expand_3.merge(product_expand_2, on = [\"product_uid\"],how = \"outer\").fillna(\"\")"
   ]
  },
  {
   "cell_type": "code",
   "execution_count": 16,
   "metadata": {
    "_uuid": "67b06727d2018e8447ede9e786093f8f2c6649ad"
   },
   "outputs": [],
   "source": [
    "total_expand.to_csv(\"product_expand.csv\", index = False)"
   ]
  }
 ],
 "metadata": {
  "kernelspec": {
   "display_name": "Python 3",
   "language": "python",
   "name": "python3"
  },
  "language_info": {
   "codemirror_mode": {
    "name": "ipython",
    "version": 3
   },
   "file_extension": ".py",
   "mimetype": "text/x-python",
   "name": "python",
   "nbconvert_exporter": "python",
   "pygments_lexer": "ipython3",
   "version": "3.6.8"
  }
 },
 "nbformat": 4,
 "nbformat_minor": 1
}
