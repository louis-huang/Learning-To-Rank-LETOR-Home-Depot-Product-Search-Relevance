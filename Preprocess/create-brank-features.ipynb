{
 "cells": [
  {
   "cell_type": "code",
   "execution_count": 1,
   "metadata": {
    "_cell_guid": "b1076dfc-b9ad-4769-8c92-a6c4dae69d19",
    "_uuid": "8f2839f25d086af736a60e9eeb907d3b93b6e0e5"
   },
   "outputs": [
    {
     "name": "stdout",
     "output_type": "stream",
     "text": [
      "['575-clean-df-all', '575brands']\n"
     ]
    }
   ],
   "source": [
    "# This Python 3 environment comes with many helpful analytics libraries installed\n",
    "# It is defined by the kaggle/python docker image: https://github.com/kaggle/docker-python\n",
    "# For example, here's several helpful packages to load in \n",
    "\n",
    "import numpy as np # linear algebra\n",
    "import pandas as pd # data processing, CSV file I/O (e.g. pd.read_csv)\n",
    "\n",
    "# Input data files are available in the \"../input/\" directory.\n",
    "# For example, running this (by clicking run or pressing Shift+Enter) will list the files in the input directory\n",
    "import re\n",
    "import os\n",
    "print(os.listdir(\"../input\"))\n",
    "\n",
    "# Any results you write to the current directory are saved as output."
   ]
  },
  {
   "cell_type": "code",
   "execution_count": 2,
   "metadata": {
    "_cell_guid": "79c7e3d0-c299-4dcb-8224-4455121ee9b0",
    "_uuid": "d629ff2d2480ee46fbb7e2d37f6b5fab8052498a"
   },
   "outputs": [],
   "source": [
    "df_all = pd.read_csv(\"../input/575-clean-df-all/df_all_toeknized_filled_na_search_term.csv\")"
   ]
  },
  {
   "cell_type": "code",
   "execution_count": 3,
   "metadata": {
    "_uuid": "bff4c296f11ce69606b7b9db63c60413cc833809"
   },
   "outputs": [],
   "source": [
    "brands = pd.read_csv(\"../input/575brands/brands.csv\",sep = \"\\t\")"
   ]
  },
  {
   "cell_type": "code",
   "execution_count": 4,
   "metadata": {
    "_uuid": "26232a390adfa9304aaa821c08e331a0c406d64b"
   },
   "outputs": [
    {
     "data": {
      "text/html": [
       "<div>\n",
       "<style scoped>\n",
       "    .dataframe tbody tr th:only-of-type {\n",
       "        vertical-align: middle;\n",
       "    }\n",
       "\n",
       "    .dataframe tbody tr th {\n",
       "        vertical-align: top;\n",
       "    }\n",
       "\n",
       "    .dataframe thead th {\n",
       "        text-align: right;\n",
       "    }\n",
       "</style>\n",
       "<table border=\"1\" class=\"dataframe\">\n",
       "  <thead>\n",
       "    <tr style=\"text-align: right;\">\n",
       "      <th></th>\n",
       "      <th>product_uid</th>\n",
       "      <th>brand</th>\n",
       "    </tr>\n",
       "  </thead>\n",
       "  <tbody>\n",
       "    <tr>\n",
       "      <th>0</th>\n",
       "      <td>100001</td>\n",
       "      <td>Simpson Strong-Tie</td>\n",
       "    </tr>\n",
       "    <tr>\n",
       "      <th>1</th>\n",
       "      <td>100002</td>\n",
       "      <td>BEHR Premium Textured DeckOver</td>\n",
       "    </tr>\n",
       "    <tr>\n",
       "      <th>2</th>\n",
       "      <td>100003</td>\n",
       "      <td>STERLING</td>\n",
       "    </tr>\n",
       "    <tr>\n",
       "      <th>3</th>\n",
       "      <td>100004</td>\n",
       "      <td>Grape Solar</td>\n",
       "    </tr>\n",
       "    <tr>\n",
       "      <th>4</th>\n",
       "      <td>100005</td>\n",
       "      <td>Delta</td>\n",
       "    </tr>\n",
       "  </tbody>\n",
       "</table>\n",
       "</div>"
      ],
      "text/plain": [
       "   product_uid                           brand\n",
       "0       100001              Simpson Strong-Tie\n",
       "1       100002  BEHR Premium Textured DeckOver\n",
       "2       100003                        STERLING\n",
       "3       100004                     Grape Solar\n",
       "4       100005                           Delta"
      ]
     },
     "execution_count": 4,
     "metadata": {},
     "output_type": "execute_result"
    }
   ],
   "source": [
    "brands.head()"
   ]
  },
  {
   "cell_type": "code",
   "execution_count": 5,
   "metadata": {
    "_uuid": "18ff89515ee9cd1f41afe2b68b86a35cdf005551"
   },
   "outputs": [],
   "source": [
    "dt = df_all[[\"product_uid\",\"search_term\",\"search_term_tokens\",\"search_term_stemmed\"]]"
   ]
  },
  {
   "cell_type": "code",
   "execution_count": 6,
   "metadata": {
    "_uuid": "b802753a3a13c62d323eda8fe12ace7f0b91c26f"
   },
   "outputs": [
    {
     "data": {
      "text/html": [
       "<div>\n",
       "<style scoped>\n",
       "    .dataframe tbody tr th:only-of-type {\n",
       "        vertical-align: middle;\n",
       "    }\n",
       "\n",
       "    .dataframe tbody tr th {\n",
       "        vertical-align: top;\n",
       "    }\n",
       "\n",
       "    .dataframe thead th {\n",
       "        text-align: right;\n",
       "    }\n",
       "</style>\n",
       "<table border=\"1\" class=\"dataframe\">\n",
       "  <thead>\n",
       "    <tr style=\"text-align: right;\">\n",
       "      <th></th>\n",
       "      <th>product_uid</th>\n",
       "      <th>search_term</th>\n",
       "      <th>search_term_tokens</th>\n",
       "      <th>search_term_stemmed</th>\n",
       "    </tr>\n",
       "  </thead>\n",
       "  <tbody>\n",
       "    <tr>\n",
       "      <th>0</th>\n",
       "      <td>100001</td>\n",
       "      <td>angle bracket</td>\n",
       "      <td>angle bracket</td>\n",
       "      <td>angl bracket</td>\n",
       "    </tr>\n",
       "    <tr>\n",
       "      <th>1</th>\n",
       "      <td>100001</td>\n",
       "      <td>l bracket</td>\n",
       "      <td>l bracket</td>\n",
       "      <td>l bracket</td>\n",
       "    </tr>\n",
       "    <tr>\n",
       "      <th>2</th>\n",
       "      <td>100002</td>\n",
       "      <td>deck over</td>\n",
       "      <td>deck over</td>\n",
       "      <td>deck over</td>\n",
       "    </tr>\n",
       "    <tr>\n",
       "      <th>3</th>\n",
       "      <td>100005</td>\n",
       "      <td>rain shower head</td>\n",
       "      <td>rain shower head</td>\n",
       "      <td>rain shower head</td>\n",
       "    </tr>\n",
       "    <tr>\n",
       "      <th>4</th>\n",
       "      <td>100005</td>\n",
       "      <td>shower only faucet</td>\n",
       "      <td>shower only faucet</td>\n",
       "      <td>shower onli faucet</td>\n",
       "    </tr>\n",
       "  </tbody>\n",
       "</table>\n",
       "</div>"
      ],
      "text/plain": [
       "   product_uid         ...         search_term_stemmed\n",
       "0       100001         ...                angl bracket\n",
       "1       100001         ...                   l bracket\n",
       "2       100002         ...                   deck over\n",
       "3       100005         ...            rain shower head\n",
       "4       100005         ...          shower onli faucet\n",
       "\n",
       "[5 rows x 4 columns]"
      ]
     },
     "execution_count": 6,
     "metadata": {},
     "output_type": "execute_result"
    }
   ],
   "source": [
    "dt.head()"
   ]
  },
  {
   "cell_type": "code",
   "execution_count": 7,
   "metadata": {
    "_uuid": "a93f59a5f5617b2c354ca7a1c54790568d97c2eb"
   },
   "outputs": [
    {
     "data": {
      "text/plain": [
       "(186134, 4)"
      ]
     },
     "execution_count": 7,
     "metadata": {},
     "output_type": "execute_result"
    }
   ],
   "source": [
    "dt.shape"
   ]
  },
  {
   "cell_type": "code",
   "execution_count": 8,
   "metadata": {
    "_uuid": "7e5a6d8824632e6796a3b5bd148cf924cc649153"
   },
   "outputs": [
    {
     "data": {
      "text/plain": [
       "(86250, 2)"
      ]
     },
     "execution_count": 8,
     "metadata": {},
     "output_type": "execute_result"
    }
   ],
   "source": [
    "brands.shape"
   ]
  },
  {
   "cell_type": "code",
   "execution_count": 9,
   "metadata": {
    "_uuid": "28dde6330e7057d9eb061d645a590f7e454eddf1"
   },
   "outputs": [],
   "source": [
    "dt = dt.merge(brands, on = \"product_uid\", how = \"left\")"
   ]
  },
  {
   "cell_type": "code",
   "execution_count": 10,
   "metadata": {
    "_uuid": "e68f989bbe2ae0d2af6a57e2cd36fef196b378c8"
   },
   "outputs": [
    {
     "data": {
      "text/plain": [
       "(186134, 5)"
      ]
     },
     "execution_count": 10,
     "metadata": {},
     "output_type": "execute_result"
    }
   ],
   "source": [
    "dt.shape"
   ]
  },
  {
   "cell_type": "code",
   "execution_count": 11,
   "metadata": {
    "_uuid": "eabcb1398bab358172d7e499778b46a0ff693acd"
   },
   "outputs": [],
   "source": [
    "dt[\"common_brand\"] = \"None\""
   ]
  },
  {
   "cell_type": "code",
   "execution_count": 12,
   "metadata": {
    "_uuid": "32aec89dc89f61feeba24a946d70aa228f46b25d"
   },
   "outputs": [
    {
     "data": {
      "text/html": [
       "<div>\n",
       "<style scoped>\n",
       "    .dataframe tbody tr th:only-of-type {\n",
       "        vertical-align: middle;\n",
       "    }\n",
       "\n",
       "    .dataframe tbody tr th {\n",
       "        vertical-align: top;\n",
       "    }\n",
       "\n",
       "    .dataframe thead th {\n",
       "        text-align: right;\n",
       "    }\n",
       "</style>\n",
       "<table border=\"1\" class=\"dataframe\">\n",
       "  <thead>\n",
       "    <tr style=\"text-align: right;\">\n",
       "      <th></th>\n",
       "      <th>product_uid</th>\n",
       "      <th>search_term</th>\n",
       "      <th>search_term_tokens</th>\n",
       "      <th>search_term_stemmed</th>\n",
       "      <th>brand</th>\n",
       "      <th>common_brand</th>\n",
       "    </tr>\n",
       "  </thead>\n",
       "  <tbody>\n",
       "    <tr>\n",
       "      <th>0</th>\n",
       "      <td>100001</td>\n",
       "      <td>angle bracket</td>\n",
       "      <td>angle bracket</td>\n",
       "      <td>angl bracket</td>\n",
       "      <td>Simpson Strong-Tie</td>\n",
       "      <td>None</td>\n",
       "    </tr>\n",
       "    <tr>\n",
       "      <th>1</th>\n",
       "      <td>100001</td>\n",
       "      <td>l bracket</td>\n",
       "      <td>l bracket</td>\n",
       "      <td>l bracket</td>\n",
       "      <td>Simpson Strong-Tie</td>\n",
       "      <td>None</td>\n",
       "    </tr>\n",
       "    <tr>\n",
       "      <th>2</th>\n",
       "      <td>100002</td>\n",
       "      <td>deck over</td>\n",
       "      <td>deck over</td>\n",
       "      <td>deck over</td>\n",
       "      <td>BEHR Premium Textured DeckOver</td>\n",
       "      <td>None</td>\n",
       "    </tr>\n",
       "    <tr>\n",
       "      <th>3</th>\n",
       "      <td>100005</td>\n",
       "      <td>rain shower head</td>\n",
       "      <td>rain shower head</td>\n",
       "      <td>rain shower head</td>\n",
       "      <td>Delta</td>\n",
       "      <td>None</td>\n",
       "    </tr>\n",
       "    <tr>\n",
       "      <th>4</th>\n",
       "      <td>100005</td>\n",
       "      <td>shower only faucet</td>\n",
       "      <td>shower only faucet</td>\n",
       "      <td>shower onli faucet</td>\n",
       "      <td>Delta</td>\n",
       "      <td>None</td>\n",
       "    </tr>\n",
       "    <tr>\n",
       "      <th>5</th>\n",
       "      <td>100006</td>\n",
       "      <td>convection otr</td>\n",
       "      <td>convection otr</td>\n",
       "      <td>convect otr</td>\n",
       "      <td>Whirlpool</td>\n",
       "      <td>None</td>\n",
       "    </tr>\n",
       "    <tr>\n",
       "      <th>6</th>\n",
       "      <td>100006</td>\n",
       "      <td>microwave over stove</td>\n",
       "      <td>microwave over stove</td>\n",
       "      <td>microwav over stove</td>\n",
       "      <td>Whirlpool</td>\n",
       "      <td>None</td>\n",
       "    </tr>\n",
       "    <tr>\n",
       "      <th>7</th>\n",
       "      <td>100006</td>\n",
       "      <td>microwaves</td>\n",
       "      <td>microwaves</td>\n",
       "      <td>microwav</td>\n",
       "      <td>Whirlpool</td>\n",
       "      <td>None</td>\n",
       "    </tr>\n",
       "    <tr>\n",
       "      <th>8</th>\n",
       "      <td>100007</td>\n",
       "      <td>emergency light</td>\n",
       "      <td>emergency light</td>\n",
       "      <td>emerg light</td>\n",
       "      <td>Lithonia Lighting</td>\n",
       "      <td>None</td>\n",
       "    </tr>\n",
       "    <tr>\n",
       "      <th>9</th>\n",
       "      <td>100009</td>\n",
       "      <td>mdf 3/4</td>\n",
       "      <td>mdf 34</td>\n",
       "      <td>mdf</td>\n",
       "      <td>House of Fara</td>\n",
       "      <td>None</td>\n",
       "    </tr>\n",
       "    <tr>\n",
       "      <th>10</th>\n",
       "      <td>100010</td>\n",
       "      <td>steele stake</td>\n",
       "      <td>steele stake</td>\n",
       "      <td>steel stake</td>\n",
       "      <td>Valley View Industries</td>\n",
       "      <td>None</td>\n",
       "    </tr>\n",
       "    <tr>\n",
       "      <th>11</th>\n",
       "      <td>100011</td>\n",
       "      <td>briggs and stratton lawn mower</td>\n",
       "      <td>briggs and stratton lawn mower</td>\n",
       "      <td>brigg and stratton lawn mower</td>\n",
       "      <td>Toro</td>\n",
       "      <td>None</td>\n",
       "    </tr>\n",
       "    <tr>\n",
       "      <th>12</th>\n",
       "      <td>100011</td>\n",
       "      <td>gas mowe</td>\n",
       "      <td>gas mowe</td>\n",
       "      <td>ga mow</td>\n",
       "      <td>Toro</td>\n",
       "      <td>None</td>\n",
       "    </tr>\n",
       "    <tr>\n",
       "      <th>13</th>\n",
       "      <td>100011</td>\n",
       "      <td>honda mower</td>\n",
       "      <td>honda mower</td>\n",
       "      <td>honda mower</td>\n",
       "      <td>Toro</td>\n",
       "      <td>None</td>\n",
       "    </tr>\n",
       "    <tr>\n",
       "      <th>14</th>\n",
       "      <td>100012</td>\n",
       "      <td>hampton bay chestnut pull up shade</td>\n",
       "      <td>hampton bay chestnut pull up shade</td>\n",
       "      <td>hampton bay chestnut pull up shade</td>\n",
       "      <td>Hampton Bay</td>\n",
       "      <td>None</td>\n",
       "    </tr>\n",
       "    <tr>\n",
       "      <th>15</th>\n",
       "      <td>100013</td>\n",
       "      <td>disposer</td>\n",
       "      <td>disposer</td>\n",
       "      <td>dispos</td>\n",
       "      <td>InSinkErator</td>\n",
       "      <td>None</td>\n",
       "    </tr>\n",
       "    <tr>\n",
       "      <th>16</th>\n",
       "      <td>100016</td>\n",
       "      <td>grill gazebo</td>\n",
       "      <td>grill gazebo</td>\n",
       "      <td>grill gazebo</td>\n",
       "      <td>Sunjoy</td>\n",
       "      <td>None</td>\n",
       "    </tr>\n",
       "    <tr>\n",
       "      <th>17</th>\n",
       "      <td>100017</td>\n",
       "      <td>door guards</td>\n",
       "      <td>door guards</td>\n",
       "      <td>door guard</td>\n",
       "      <td>MD Building Products</td>\n",
       "      <td>None</td>\n",
       "    </tr>\n",
       "    <tr>\n",
       "      <th>18</th>\n",
       "      <td>100017</td>\n",
       "      <td>metal plate cover gcfi</td>\n",
       "      <td>metal plate cover gcfi</td>\n",
       "      <td>metal plate cover gcfi</td>\n",
       "      <td>MD Building Products</td>\n",
       "      <td>None</td>\n",
       "    </tr>\n",
       "    <tr>\n",
       "      <th>19</th>\n",
       "      <td>100017</td>\n",
       "      <td>radiator grate</td>\n",
       "      <td>radiator grate</td>\n",
       "      <td>radiat grate</td>\n",
       "      <td>MD Building Products</td>\n",
       "      <td>None</td>\n",
       "    </tr>\n",
       "  </tbody>\n",
       "</table>\n",
       "</div>"
      ],
      "text/plain": [
       "    product_uid     ...      common_brand\n",
       "0        100001     ...              None\n",
       "1        100001     ...              None\n",
       "2        100002     ...              None\n",
       "3        100005     ...              None\n",
       "4        100005     ...              None\n",
       "5        100006     ...              None\n",
       "6        100006     ...              None\n",
       "7        100006     ...              None\n",
       "8        100007     ...              None\n",
       "9        100009     ...              None\n",
       "10       100010     ...              None\n",
       "11       100011     ...              None\n",
       "12       100011     ...              None\n",
       "13       100011     ...              None\n",
       "14       100012     ...              None\n",
       "15       100013     ...              None\n",
       "16       100016     ...              None\n",
       "17       100017     ...              None\n",
       "18       100017     ...              None\n",
       "19       100017     ...              None\n",
       "\n",
       "[20 rows x 6 columns]"
      ]
     },
     "execution_count": 12,
     "metadata": {},
     "output_type": "execute_result"
    }
   ],
   "source": [
    "dt.head(20)"
   ]
  },
  {
   "cell_type": "code",
   "execution_count": 13,
   "metadata": {
    "_uuid": "d44048cba348c7f3992759e25c4776033eac83c5"
   },
   "outputs": [],
   "source": [
    "strNum = {'zero':0,'one':1,'two':2,'three':3,'four':4,'five':5,'six':6,'seven':7,'eight':8,'nine':9}\n",
    "\n",
    "def str_stem(s): \n",
    "    if isinstance(s, str):\n",
    "        s = re.sub(r\"(\\w)\\.([A-Z])\", r\"\\1 \\2\", s) #Split words with a.A\n",
    "        s = s.lower()\n",
    "        s = s.replace(\"  \",\" \")\n",
    "        s = s.replace(\",\",\"\") #could be number / segment later\n",
    "        s = s.replace(\"$\",\" \")\n",
    "        s = s.replace(\"?\",\" \")\n",
    "        s = s.replace(\"-\",\" \")\n",
    "        s = s.replace(\"//\",\"/\")\n",
    "        s = s.replace(\"..\",\".\")\n",
    "        s = s.replace(\" / \",\" \")\n",
    "        s = s.replace(\" \\\\ \",\" \")\n",
    "        s = s.replace(\".\",\" . \")\n",
    "        s = re.sub(r\"(^\\.|/)\", r\"\", s)\n",
    "        s = re.sub(r\"(\\.|/)$\", r\"\", s)\n",
    "        s = re.sub(r\"([0-9])([a-z])\", r\"\\1 \\2\", s)\n",
    "        s = re.sub(r\"([a-z])([0-9])\", r\"\\1 \\2\", s)\n",
    "        s = s.replace(\" x \",\" xbi \")\n",
    "        s = re.sub(r\"([a-z])( *)\\.( *)([a-z])\", r\"\\1 \\4\", s)\n",
    "        s = re.sub(r\"([a-z])( *)/( *)([a-z])\", r\"\\1 \\4\", s)\n",
    "        s = s.replace(\"*\",\" xbi \")\n",
    "        s = s.replace(\" by \",\" xbi \")\n",
    "        s = re.sub(r\"([0-9])( *)\\.( *)([0-9])\", r\"\\1.\\4\", s)\n",
    "        s = re.sub(r\"([0-9]+)( *)(inches|inch|in|')\\.?\", r\"\\1in. \", s)\n",
    "        s = re.sub(r\"([0-9]+)( *)(foot|feet|ft|'')\\.?\", r\"\\1ft. \", s)\n",
    "        s = re.sub(r\"([0-9]+)( *)(pounds|pound|lbs|lb)\\.?\", r\"\\1lb. \", s)\n",
    "        s = re.sub(r\"([0-9]+)( *)(square|sq) ?\\.?(feet|foot|ft)\\.?\", r\"\\1sq.ft. \", s)\n",
    "        s = re.sub(r\"([0-9]+)( *)(cubic|cu) ?\\.?(feet|foot|ft)\\.?\", r\"\\1cu.ft. \", s)\n",
    "        s = re.sub(r\"([0-9]+)( *)(gallons|gallon|gal)\\.?\", r\"\\1gal. \", s)\n",
    "        s = re.sub(r\"([0-9]+)( *)(ounces|ounce|oz)\\.?\", r\"\\1oz. \", s)\n",
    "        s = re.sub(r\"([0-9]+)( *)(centimeters|cm)\\.?\", r\"\\1cm. \", s)\n",
    "        s = re.sub(r\"([0-9]+)( *)(milimeters|mm)\\.?\", r\"\\1mm. \", s)\n",
    "        s = s.replace(\"°\",\" degrees \")\n",
    "        s = re.sub(r\"([0-9]+)( *)(degrees|degree)\\.?\", r\"\\1deg. \", s)\n",
    "        s = s.replace(\" v \",\" volts \")\n",
    "        s = re.sub(r\"([0-9]+)( *)(volts|volt)\\.?\", r\"\\1volt. \", s)\n",
    "        s = re.sub(r\"([0-9]+)( *)(watts|watt)\\.?\", r\"\\1watt. \", s)\n",
    "        s = re.sub(r\"([0-9]+)( *)(amperes|ampere|amps|amp)\\.?\", r\"\\1amp. \", s)\n",
    "        s = s.replace(\"  \",\" \")\n",
    "        s = s.replace(\" . \",\" \")\n",
    "        #s = (\" \").join([z for z in s.split(\" \") if z not in stop_w])\n",
    "        s = (\" \").join([str(strNum[z]) if z in strNum else z for z in s.split(\" \")])\n",
    "        #s = (\" \").join([stemmer.stem(z) for z in s.split(\" \")])\n",
    "        \n",
    "        s = s.lower()\n",
    "        s = s.replace(\"toliet\",\"toilet\")\n",
    "        s = s.replace(\"airconditioner\",\"air conditioner\")\n",
    "        s = s.replace(\"vinal\",\"vinyl\")\n",
    "        s = s.replace(\"vynal\",\"vinyl\")\n",
    "        s = s.replace(\"skill\",\"skil\")\n",
    "        s = s.replace(\"snowbl\",\"snow bl\")\n",
    "        s = s.replace(\"plexigla\",\"plexi gla\")\n",
    "        s = s.replace(\"rustoleum\",\"rust-oleum\")\n",
    "        s = s.replace(\"whirpool\",\"whirlpool\")\n",
    "        s = s.replace(\"whirlpoolga\", \"whirlpool ga\")\n",
    "        s = s.replace(\"whirlpoolstainless\",\"whirlpool stainless\")\n",
    "        return s\n",
    "    else:\n",
    "        return \"null\"\n",
    "\n",
    "    \n",
    "def str_common_word(str1, str2):\n",
    "    words, cnt = str1.split(), 0\n",
    "    for word in words:\n",
    "        if str2.find(word)>=0:\n",
    "            cnt+=1\n",
    "    return cnt"
   ]
  },
  {
   "cell_type": "code",
   "execution_count": 14,
   "metadata": {
    "_uuid": "ccd7ba738727a74c9713f23b14e0572f3daf427e"
   },
   "outputs": [],
   "source": [
    "dt['search_term'] = dt['search_term'].map(lambda x:str_stem(x))\n",
    "dt['brand'] = dt['brand'].map(lambda x:str_stem(x))"
   ]
  },
  {
   "cell_type": "code",
   "execution_count": 15,
   "metadata": {
    "_uuid": "b55df4c26536d9e5edd1a9e037940cac24a23a5c"
   },
   "outputs": [
    {
     "data": {
      "text/html": [
       "<div>\n",
       "<style scoped>\n",
       "    .dataframe tbody tr th:only-of-type {\n",
       "        vertical-align: middle;\n",
       "    }\n",
       "\n",
       "    .dataframe tbody tr th {\n",
       "        vertical-align: top;\n",
       "    }\n",
       "\n",
       "    .dataframe thead th {\n",
       "        text-align: right;\n",
       "    }\n",
       "</style>\n",
       "<table border=\"1\" class=\"dataframe\">\n",
       "  <thead>\n",
       "    <tr style=\"text-align: right;\">\n",
       "      <th></th>\n",
       "      <th>product_uid</th>\n",
       "      <th>search_term</th>\n",
       "      <th>search_term_tokens</th>\n",
       "      <th>search_term_stemmed</th>\n",
       "      <th>brand</th>\n",
       "      <th>common_brand</th>\n",
       "    </tr>\n",
       "  </thead>\n",
       "  <tbody>\n",
       "    <tr>\n",
       "      <th>0</th>\n",
       "      <td>100001</td>\n",
       "      <td>angle bracket</td>\n",
       "      <td>angle bracket</td>\n",
       "      <td>angl bracket</td>\n",
       "      <td>simpson strong tie</td>\n",
       "      <td>None</td>\n",
       "    </tr>\n",
       "    <tr>\n",
       "      <th>1</th>\n",
       "      <td>100001</td>\n",
       "      <td>l bracket</td>\n",
       "      <td>l bracket</td>\n",
       "      <td>l bracket</td>\n",
       "      <td>simpson strong tie</td>\n",
       "      <td>None</td>\n",
       "    </tr>\n",
       "    <tr>\n",
       "      <th>2</th>\n",
       "      <td>100002</td>\n",
       "      <td>deck over</td>\n",
       "      <td>deck over</td>\n",
       "      <td>deck over</td>\n",
       "      <td>behr premium textured deckover</td>\n",
       "      <td>None</td>\n",
       "    </tr>\n",
       "    <tr>\n",
       "      <th>3</th>\n",
       "      <td>100005</td>\n",
       "      <td>rain shower head</td>\n",
       "      <td>rain shower head</td>\n",
       "      <td>rain shower head</td>\n",
       "      <td>delta</td>\n",
       "      <td>None</td>\n",
       "    </tr>\n",
       "    <tr>\n",
       "      <th>4</th>\n",
       "      <td>100005</td>\n",
       "      <td>shower only faucet</td>\n",
       "      <td>shower only faucet</td>\n",
       "      <td>shower onli faucet</td>\n",
       "      <td>delta</td>\n",
       "      <td>None</td>\n",
       "    </tr>\n",
       "  </tbody>\n",
       "</table>\n",
       "</div>"
      ],
      "text/plain": [
       "   product_uid     ...      common_brand\n",
       "0       100001     ...              None\n",
       "1       100001     ...              None\n",
       "2       100002     ...              None\n",
       "3       100005     ...              None\n",
       "4       100005     ...              None\n",
       "\n",
       "[5 rows x 6 columns]"
      ]
     },
     "execution_count": 15,
     "metadata": {},
     "output_type": "execute_result"
    }
   ],
   "source": [
    "dt.head()"
   ]
  },
  {
   "cell_type": "code",
   "execution_count": 16,
   "metadata": {
    "_uuid": "d6875cebe0ad20601bb2a5fee590a496bfa0aa3e"
   },
   "outputs": [],
   "source": [
    "dt['len_of_brand'] = dt['brand'].map(lambda x:len(x.split())).astype(np.int64)\n",
    "dt['attr'] = dt['search_term']+\"\\t\"+dt['brand']\n",
    "dt['word_in_brand'] = dt['attr'].map(lambda x:str_common_word(x.split('\\t')[0],x.split('\\t')[1]))\n",
    "dt['ratio_brand'] = dt['word_in_brand']/dt['len_of_brand']\n"
   ]
  },
  {
   "cell_type": "code",
   "execution_count": 17,
   "metadata": {
    "_uuid": "8bd7a7062df15e6d0650bae8ca157bb421a8de9c"
   },
   "outputs": [
    {
     "data": {
      "text/html": [
       "<div>\n",
       "<style scoped>\n",
       "    .dataframe tbody tr th:only-of-type {\n",
       "        vertical-align: middle;\n",
       "    }\n",
       "\n",
       "    .dataframe tbody tr th {\n",
       "        vertical-align: top;\n",
       "    }\n",
       "\n",
       "    .dataframe thead th {\n",
       "        text-align: right;\n",
       "    }\n",
       "</style>\n",
       "<table border=\"1\" class=\"dataframe\">\n",
       "  <thead>\n",
       "    <tr style=\"text-align: right;\">\n",
       "      <th></th>\n",
       "      <th>product_uid</th>\n",
       "      <th>search_term</th>\n",
       "      <th>search_term_tokens</th>\n",
       "      <th>search_term_stemmed</th>\n",
       "      <th>brand</th>\n",
       "      <th>common_brand</th>\n",
       "      <th>len_of_brand</th>\n",
       "      <th>attr</th>\n",
       "      <th>word_in_brand</th>\n",
       "      <th>ratio_brand</th>\n",
       "    </tr>\n",
       "  </thead>\n",
       "  <tbody>\n",
       "    <tr>\n",
       "      <th>0</th>\n",
       "      <td>100001</td>\n",
       "      <td>angle bracket</td>\n",
       "      <td>angle bracket</td>\n",
       "      <td>angl bracket</td>\n",
       "      <td>simpson strong tie</td>\n",
       "      <td>None</td>\n",
       "      <td>3</td>\n",
       "      <td>angle bracket\\tsimpson strong tie</td>\n",
       "      <td>0</td>\n",
       "      <td>0.0</td>\n",
       "    </tr>\n",
       "    <tr>\n",
       "      <th>1</th>\n",
       "      <td>100001</td>\n",
       "      <td>l bracket</td>\n",
       "      <td>l bracket</td>\n",
       "      <td>l bracket</td>\n",
       "      <td>simpson strong tie</td>\n",
       "      <td>None</td>\n",
       "      <td>3</td>\n",
       "      <td>l bracket\\tsimpson strong tie</td>\n",
       "      <td>0</td>\n",
       "      <td>0.0</td>\n",
       "    </tr>\n",
       "    <tr>\n",
       "      <th>2</th>\n",
       "      <td>100002</td>\n",
       "      <td>deck over</td>\n",
       "      <td>deck over</td>\n",
       "      <td>deck over</td>\n",
       "      <td>behr premium textured deckover</td>\n",
       "      <td>None</td>\n",
       "      <td>4</td>\n",
       "      <td>deck over\\tbehr premium textured deckover</td>\n",
       "      <td>2</td>\n",
       "      <td>0.5</td>\n",
       "    </tr>\n",
       "    <tr>\n",
       "      <th>3</th>\n",
       "      <td>100005</td>\n",
       "      <td>rain shower head</td>\n",
       "      <td>rain shower head</td>\n",
       "      <td>rain shower head</td>\n",
       "      <td>delta</td>\n",
       "      <td>None</td>\n",
       "      <td>1</td>\n",
       "      <td>rain shower head\\tdelta</td>\n",
       "      <td>0</td>\n",
       "      <td>0.0</td>\n",
       "    </tr>\n",
       "    <tr>\n",
       "      <th>4</th>\n",
       "      <td>100005</td>\n",
       "      <td>shower only faucet</td>\n",
       "      <td>shower only faucet</td>\n",
       "      <td>shower onli faucet</td>\n",
       "      <td>delta</td>\n",
       "      <td>None</td>\n",
       "      <td>1</td>\n",
       "      <td>shower only faucet\\tdelta</td>\n",
       "      <td>0</td>\n",
       "      <td>0.0</td>\n",
       "    </tr>\n",
       "  </tbody>\n",
       "</table>\n",
       "</div>"
      ],
      "text/plain": [
       "   product_uid         search_term     ...     word_in_brand ratio_brand\n",
       "0       100001       angle bracket     ...                 0         0.0\n",
       "1       100001           l bracket     ...                 0         0.0\n",
       "2       100002           deck over     ...                 2         0.5\n",
       "3       100005    rain shower head     ...                 0         0.0\n",
       "4       100005  shower only faucet     ...                 0         0.0\n",
       "\n",
       "[5 rows x 10 columns]"
      ]
     },
     "execution_count": 17,
     "metadata": {},
     "output_type": "execute_result"
    }
   ],
   "source": [
    "dt.head(5)"
   ]
  },
  {
   "cell_type": "code",
   "execution_count": 18,
   "metadata": {
    "_uuid": "5fe88fb91a891ebb32daef83576557af0312bc3a"
   },
   "outputs": [],
   "source": [
    "dt[[\"word_in_brand\",\"ratio_brand\"]].to_csv(\"feature_brand.csv\", index = False)"
   ]
  }
 ],
 "metadata": {
  "kernelspec": {
   "display_name": "Python 3",
   "language": "python",
   "name": "python3"
  },
  "language_info": {
   "codemirror_mode": {
    "name": "ipython",
    "version": 3
   },
   "file_extension": ".py",
   "mimetype": "text/x-python",
   "name": "python",
   "nbconvert_exporter": "python",
   "pygments_lexer": "ipython3",
   "version": "3.6.8"
  }
 },
 "nbformat": 4,
 "nbformat_minor": 1
}
