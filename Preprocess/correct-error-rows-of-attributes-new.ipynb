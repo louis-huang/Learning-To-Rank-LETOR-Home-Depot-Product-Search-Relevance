{
 "cells": [
  {
   "cell_type": "markdown",
   "metadata": {
    "_uuid": "0fac8092b641159c3c48e9a767167e4c7a6acf0b"
   },
   "source": [
    "## I found there were two rows having extra delimiters. So I first skipped them and then added them to the end of the csv file. Not sure how to add them back to where they should be."
   ]
  },
  {
   "cell_type": "code",
   "execution_count": 1,
   "metadata": {
    "_cell_guid": "b1076dfc-b9ad-4769-8c92-a6c4dae69d19",
    "_uuid": "8f2839f25d086af736a60e9eeb907d3b93b6e0e5"
   },
   "outputs": [
    {
     "name": "stdout",
     "output_type": "stream",
     "text": [
      "['product_descriptions_new.csv', 'test_new.csv', 'relevance_instructions.docx', 'train_new.csv', 'attributes_new.csv', 'sample_submission_new.csv']\n"
     ]
    }
   ],
   "source": [
    "# This Python 3 environment comes with many helpful analytics libraries installed\n",
    "# It is defined by the kaggle/python docker image: https://github.com/kaggle/docker-python\n",
    "# For example, here's several helpful packages to load in \n",
    "\n",
    "import numpy as np # linear algebra\n",
    "import pandas as pd # data processing, CSV file I/O (e.g. pd.read_csv)\n",
    "\n",
    "# Input data files are available in the \"../input/\" directory.\n",
    "# For example, running this (by clicking run or pressing Shift+Enter) will list the files in the input directory\n",
    "import csv\n",
    "import os\n",
    "print(os.listdir(\"../input\"))\n",
    "\n",
    "# Any results you write to the current directory are saved as output."
   ]
  },
  {
   "cell_type": "code",
   "execution_count": 2,
   "metadata": {
    "_cell_guid": "79c7e3d0-c299-4dcb-8224-4455121ee9b0",
    "_uuid": "d629ff2d2480ee46fbb7e2d37f6b5fab8052498a",
    "scrolled": true
   },
   "outputs": [],
   "source": [
    "attribute = pd.read_csv(\"../input/attributes_new.csv\",sep = \"\\n\", error_bad_lines=False)"
   ]
  },
  {
   "cell_type": "code",
   "execution_count": 3,
   "metadata": {
    "_uuid": "ee64370a6e494ae3d767d6f299c337733b555e67"
   },
   "outputs": [
    {
     "data": {
      "text/html": [
       "<div>\n",
       "<style scoped>\n",
       "    .dataframe tbody tr th:only-of-type {\n",
       "        vertical-align: middle;\n",
       "    }\n",
       "\n",
       "    .dataframe tbody tr th {\n",
       "        vertical-align: top;\n",
       "    }\n",
       "\n",
       "    .dataframe thead th {\n",
       "        text-align: right;\n",
       "    }\n",
       "</style>\n",
       "<table border=\"1\" class=\"dataframe\">\n",
       "  <thead>\n",
       "    <tr style=\"text-align: right;\">\n",
       "      <th></th>\n",
       "      <th>product_uid\tname\tvalue</th>\n",
       "    </tr>\n",
       "  </thead>\n",
       "  <tbody>\n",
       "    <tr>\n",
       "      <th>0</th>\n",
       "      <td>100001\\tBullet01\\tVersatile connector for vari...</td>\n",
       "    </tr>\n",
       "    <tr>\n",
       "      <th>1</th>\n",
       "      <td>100001\\tBullet02\\tStronger than angled nailing...</td>\n",
       "    </tr>\n",
       "    <tr>\n",
       "      <th>2</th>\n",
       "      <td>100001\\tBullet03\\tHelp ensure joints are consi...</td>\n",
       "    </tr>\n",
       "    <tr>\n",
       "      <th>3</th>\n",
       "      <td>100001\\tBullet04\\tDimensions: 3 in. x 3 in. x ...</td>\n",
       "    </tr>\n",
       "    <tr>\n",
       "      <th>4</th>\n",
       "      <td>100001\\tBullet05\\tMade from 12-Gauge steel</td>\n",
       "    </tr>\n",
       "  </tbody>\n",
       "</table>\n",
       "</div>"
      ],
      "text/plain": [
       "                            product_uid\\tname\\tvalue\n",
       "0  100001\\tBullet01\\tVersatile connector for vari...\n",
       "1  100001\\tBullet02\\tStronger than angled nailing...\n",
       "2  100001\\tBullet03\\tHelp ensure joints are consi...\n",
       "3  100001\\tBullet04\\tDimensions: 3 in. x 3 in. x ...\n",
       "4         100001\\tBullet05\\tMade from 12-Gauge steel"
      ]
     },
     "execution_count": 3,
     "metadata": {},
     "output_type": "execute_result"
    }
   ],
   "source": [
    "attribute.head()"
   ]
  },
  {
   "cell_type": "code",
   "execution_count": 4,
   "metadata": {
    "_uuid": "0c2812ad9b9ce67784aee131a8a2b9dd76833ea1"
   },
   "outputs": [],
   "source": [
    "r1 = []\n",
    "r2 = []\n",
    "r3 = []\n",
    "for idx, row in attribute.iterrows():\n",
    "    vals = row.values[0].split(\"\\t\")\n",
    "    r1.append(vals[0])\n",
    "    r2.append(vals[1])\n",
    "    r3.append(vals[2])"
   ]
  },
  {
   "cell_type": "code",
   "execution_count": 5,
   "metadata": {
    "_uuid": "72e710934bf5605ed1ff38e61b33e4dfc5bb9934"
   },
   "outputs": [],
   "source": [
    "dt = pd.DataFrame({\"product_uid\":r1, \"name\":r2, \"value\":r3})"
   ]
  },
  {
   "cell_type": "code",
   "execution_count": 6,
   "metadata": {
    "_uuid": "e6ece51efcb1f50f33f39b899226f4c244442e7a"
   },
   "outputs": [],
   "source": [
    "dt.to_csv(\"attributes_new_modified.csv\",sep = \"\\t\",index = None)"
   ]
  }
 ],
 "metadata": {
  "kernelspec": {
   "display_name": "Python 3",
   "language": "python",
   "name": "python3"
  },
  "language_info": {
   "codemirror_mode": {
    "name": "ipython",
    "version": 3
   },
   "file_extension": ".py",
   "mimetype": "text/x-python",
   "name": "python",
   "nbconvert_exporter": "python",
   "pygments_lexer": "ipython3",
   "version": "3.6.6"
  }
 },
 "nbformat": 4,
 "nbformat_minor": 1
}
