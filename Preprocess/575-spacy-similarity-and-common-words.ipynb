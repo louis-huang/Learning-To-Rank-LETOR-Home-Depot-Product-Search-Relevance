{
 "cells": [
  {
   "cell_type": "code",
   "execution_count": 1,
   "metadata": {
    "_cell_guid": "b1076dfc-b9ad-4769-8c92-a6c4dae69d19",
    "_uuid": "8f2839f25d086af736a60e9eeb907d3b93b6e0e5"
   },
   "outputs": [],
   "source": [
    "import numpy as np\n",
    "import pandas as pd\n",
    "import warnings\n",
    "warnings.filterwarnings('ignore')\n",
    "\n",
    "\n",
    "import re\n",
    "from sklearn.model_selection import train_test_split\n",
    "import nltk\n",
    "from nltk.tokenize import word_tokenize,sent_tokenize\n",
    "from nltk.corpus import stopwords\n",
    "from nltk.tokenize import RegexpTokenizer\n",
    "import gensim \n",
    "from sklearn.feature_extraction.text import CountVectorizer\n",
    "from nltk.stem import WordNetLemmatizer, PorterStemmer \n",
    "import string\n",
    "import spacy\n",
    "from sklearn.ensemble import GradientBoostingRegressor\n",
    "from sklearn.metrics import mean_squared_error\n",
    "from math import sqrt\n",
    "from sklearn.ensemble import RandomForestRegressor, BaggingRegressor\n",
    "import xgboost as xgb"
   ]
  },
  {
   "cell_type": "code",
   "execution_count": 2,
   "metadata": {
    "_cell_guid": "79c7e3d0-c299-4dcb-8224-4455121ee9b0",
    "_uuid": "d629ff2d2480ee46fbb7e2d37f6b5fab8052498a"
   },
   "outputs": [],
   "source": [
    "train_df =  pd.read_csv('../input/new_train.csv', sep = \"\\t\")\n",
    "train_df = train_df.fillna('')\n",
    "test_df = pd.read_csv('../input/new_test.csv', sep = \"\\t\")\n",
    "test_df = test_df.fillna('')"
   ]
  },
  {
   "cell_type": "code",
   "execution_count": 3,
   "metadata": {
    "_uuid": "092864df5da6984abc8201aaec40a2ef0d1fd06a"
   },
   "outputs": [],
   "source": [
    "df_all = pd.concat((train_df, test_df), axis=0, ignore_index=True)"
   ]
  },
  {
   "cell_type": "code",
   "execution_count": 4,
   "metadata": {
    "_uuid": "886d837b7dcd6e676176630ebbb83f0628f7c4b0"
   },
   "outputs": [],
   "source": [
    "table = str.maketrans(dict.fromkeys(string.punctuation))\n",
    "porter = nltk.PorterStemmer()\n",
    "nlp = spacy.load('en_core_web_lg')\n",
    "\n",
    "num_train = train_df.shape[0]\n",
    "random_st = 1024"
   ]
  },
  {
   "cell_type": "code",
   "execution_count": 5,
   "metadata": {
    "_uuid": "4a0e2b910bbb0a69c856a046181216913acb5328"
   },
   "outputs": [],
   "source": [
    "def spacy_sim(str1, str2):\n",
    "    return nlp(str1).similarity(nlp(str2))\n",
    "def crearte_features(samples):\n",
    "    samples['product_info'] = samples['search_term']+\"\\t\"+samples['product_title']+\"\\t\"+samples['product_description']\n",
    "    samples['sim_in_title'] = samples['product_info'].map(lambda x:spacy_sim(x.split('\\t')[0],x.split('\\t')[1]))\n",
    "    samples['sim_in_description'] = samples['product_info'].map(lambda x:spacy_sim(x.split('\\t')[0],x.split('\\t')[2]))\n",
    "    samples['len_of_query'] = df_all['search_term'].map(lambda x:len(x.split())).astype(np.int64)\n",
    "    return samples"
   ]
  },
  {
   "cell_type": "code",
   "execution_count": 6,
   "metadata": {
    "_uuid": "e6a20cf56b3db646d3cbe553cf6f72c6b44dfdd5"
   },
   "outputs": [],
   "source": [
    "df_all = crearte_features(df_all)\n",
    "df_all.to_csv(\"df_all_spacy_sim.csv\",sep = \"\\t\",index = False)"
   ]
  },
  {
   "cell_type": "code",
   "execution_count": 7,
   "metadata": {
    "_uuid": "20a0b23c1535045735d51b12d8665a73abc8f30b"
   },
   "outputs": [],
   "source": [
    "train_df = df_all.iloc[:num_train]\n",
    "train_df[['sim_in_title', 'sim_in_description',  'len_of_query','relevance']].to_csv(\"feature_train_spacy.csv\",index = None, sep = \"\\t\")\n",
    "test_df = df_all.iloc[num_train:]\n",
    "test_df[['sim_in_title', 'sim_in_description', 'len_of_query']].to_csv(\"feature_test_spacy.csv\",index = None, sep = \"\\t\")"
   ]
  }
 ],
 "metadata": {
  "kernelspec": {
   "display_name": "Python 3",
   "language": "python",
   "name": "python3"
  },
  "language_info": {
   "codemirror_mode": {
    "name": "ipython",
    "version": 3
   },
   "file_extension": ".py",
   "mimetype": "text/x-python",
   "name": "python",
   "nbconvert_exporter": "python",
   "pygments_lexer": "ipython3",
   "version": "3.6.8"
  }
 },
 "nbformat": 4,
 "nbformat_minor": 1
}
