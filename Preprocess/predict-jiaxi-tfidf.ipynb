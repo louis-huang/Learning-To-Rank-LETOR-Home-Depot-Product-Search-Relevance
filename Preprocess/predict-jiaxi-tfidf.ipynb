{
 "cells": [
  {
   "cell_type": "code",
   "execution_count": 1,
   "metadata": {
    "_cell_guid": "b1076dfc-b9ad-4769-8c92-a6c4dae69d19",
    "_uuid": "8f2839f25d086af736a60e9eeb907d3b93b6e0e5"
   },
   "outputs": [
    {
     "name": "stdout",
     "output_type": "stream",
     "text": [
      "['fork-of-preprocess-corpus', 'predict-jiaxi-2']\n"
     ]
    }
   ],
   "source": [
    "# This Python 3 environment comes with many helpful analytics libraries installed\n",
    "# It is defined by the kaggle/python docker image: https://github.com/kaggle/docker-python\n",
    "# For example, here's several helpful packages to load in \n",
    "\n",
    "import numpy as np # linear algebra\n",
    "import pandas as pd # data processing, CSV file I/O (e.g. pd.read_csv)\n",
    "import os\n",
    "import time\n",
    "from sklearn.ensemble import RandomForestRegressor, BaggingRegressor\n",
    "from nltk.stem.snowball import SnowballStemmer\n",
    "from collections import Counter\n",
    "from sklearn.feature_extraction.text import CountVectorizer,TfidfVectorizer\n",
    "from sklearn.metrics.pairwise import cosine_similarity\n",
    "import warnings\n",
    "warnings.filterwarnings('ignore')\n",
    "\n",
    "# Input data files are available in the \"../input/\" directory.\n",
    "# For example, running this (by clicking run or pressing Shift+Enter) will list the files in the input directory\n",
    "\n",
    "import os\n",
    "print(os.listdir(\"../input/\"))\n",
    "import numba\n",
    "\n",
    "# Any results you write to the current directory are saved as output."
   ]
  },
  {
   "cell_type": "code",
   "execution_count": 2,
   "metadata": {
    "_cell_guid": "79c7e3d0-c299-4dcb-8224-4455121ee9b0",
    "_uuid": "d629ff2d2480ee46fbb7e2d37f6b5fab8052498a"
   },
   "outputs": [],
   "source": [
    "df_all = pd.read_csv('../input/predict-jiaxi-2/df_all_toeknized_filled_na_search_term.csv')"
   ]
  },
  {
   "cell_type": "code",
   "execution_count": 3,
   "metadata": {
    "_uuid": "fc7cfa0a4e7e54503988fcd7926dd56c447da369"
   },
   "outputs": [
    {
     "data": {
      "text/html": [
       "<div>\n",
       "<style scoped>\n",
       "    .dataframe tbody tr th:only-of-type {\n",
       "        vertical-align: middle;\n",
       "    }\n",
       "\n",
       "    .dataframe tbody tr th {\n",
       "        vertical-align: top;\n",
       "    }\n",
       "\n",
       "    .dataframe thead th {\n",
       "        text-align: right;\n",
       "    }\n",
       "</style>\n",
       "<table border=\"1\" class=\"dataframe\">\n",
       "  <thead>\n",
       "    <tr style=\"text-align: right;\">\n",
       "      <th></th>\n",
       "      <th>attribute</th>\n",
       "      <th>id</th>\n",
       "      <th>product_description</th>\n",
       "      <th>product_title</th>\n",
       "      <th>product_uid</th>\n",
       "      <th>relevance</th>\n",
       "      <th>search_term</th>\n",
       "      <th>product_description_tokens</th>\n",
       "      <th>product_title_tokens</th>\n",
       "      <th>search_term_tokens</th>\n",
       "      <th>attribute_tokens</th>\n",
       "      <th>product_description_stemmed</th>\n",
       "      <th>product_title_stemmed</th>\n",
       "      <th>search_term_stemmed</th>\n",
       "      <th>attribute_stemmed</th>\n",
       "    </tr>\n",
       "  </thead>\n",
       "  <tbody>\n",
       "    <tr>\n",
       "      <th>0</th>\n",
       "      <td>Versatile connector for various 90 connections...</td>\n",
       "      <td>2</td>\n",
       "      <td>Not only do angles make joints stronger, they ...</td>\n",
       "      <td>Simpson Strong-Tie 12-Gauge Angle</td>\n",
       "      <td>100001</td>\n",
       "      <td>3.00</td>\n",
       "      <td>angle bracket</td>\n",
       "      <td>not only do angles make joints stronger they a...</td>\n",
       "      <td>simpson strongtie 12gauge angle</td>\n",
       "      <td>angle bracket</td>\n",
       "      <td>versatile connector for various 90 connections...</td>\n",
       "      <td>not onli do angl make joint stronger they also...</td>\n",
       "      <td>simpson strongti angl</td>\n",
       "      <td>angl bracket</td>\n",
       "      <td>versatil connector for variou connect and home...</td>\n",
       "    </tr>\n",
       "    <tr>\n",
       "      <th>1</th>\n",
       "      <td>Versatile connector for various 90 connections...</td>\n",
       "      <td>3</td>\n",
       "      <td>Not only do angles make joints stronger, they ...</td>\n",
       "      <td>Simpson Strong-Tie 12-Gauge Angle</td>\n",
       "      <td>100001</td>\n",
       "      <td>2.50</td>\n",
       "      <td>l bracket</td>\n",
       "      <td>not only do angles make joints stronger they a...</td>\n",
       "      <td>simpson strongtie 12gauge angle</td>\n",
       "      <td>l bracket</td>\n",
       "      <td>versatile connector for various 90 connections...</td>\n",
       "      <td>not onli do angl make joint stronger they also...</td>\n",
       "      <td>simpson strongti angl</td>\n",
       "      <td>l bracket</td>\n",
       "      <td>versatil connector for variou connect and home...</td>\n",
       "    </tr>\n",
       "    <tr>\n",
       "      <th>2</th>\n",
       "      <td>Brush,Roller,Spray 6.63 in 7.76 in 6.63 in Rev...</td>\n",
       "      <td>9</td>\n",
       "      <td>BEHR Premium Textured DECKOVER is an innovativ...</td>\n",
       "      <td>BEHR Premium Textured DeckOver 1-gal. #SC-141 ...</td>\n",
       "      <td>100002</td>\n",
       "      <td>3.00</td>\n",
       "      <td>deck over</td>\n",
       "      <td>behr premium textured deckover is an innovativ...</td>\n",
       "      <td>behr premium textured deckover 1gal sc141 tugb...</td>\n",
       "      <td>deck over</td>\n",
       "      <td>brushrollerspray 663 in 776 in 663 in revives ...</td>\n",
       "      <td>behr premium textur deckov is an innov solid c...</td>\n",
       "      <td>behr premium textur deckov tugboat wood and co...</td>\n",
       "      <td>deck over</td>\n",
       "      <td>brushrollerspray in in in reviv wood and compo...</td>\n",
       "    </tr>\n",
       "    <tr>\n",
       "      <th>3</th>\n",
       "      <td>Combo Tub and Shower No Includes the trim kit ...</td>\n",
       "      <td>16</td>\n",
       "      <td>Update your bathroom with the Delta Vero Singl...</td>\n",
       "      <td>Delta Vero 1-Handle Shower Only Faucet Trim Ki...</td>\n",
       "      <td>100005</td>\n",
       "      <td>2.33</td>\n",
       "      <td>rain shower head</td>\n",
       "      <td>update your bathroom with the delta vero singl...</td>\n",
       "      <td>delta vero 1handle shower only faucet trim kit...</td>\n",
       "      <td>rain shower head</td>\n",
       "      <td>combo tub and shower no includes the trim kit ...</td>\n",
       "      <td>updat your bathroom with the delta vero single...</td>\n",
       "      <td>delta vero shower onli faucet trim kit in chro...</td>\n",
       "      <td>rain shower head</td>\n",
       "      <td>combo tub and shower no includ the trim kit on...</td>\n",
       "    </tr>\n",
       "    <tr>\n",
       "      <th>4</th>\n",
       "      <td>Combo Tub and Shower No Includes the trim kit ...</td>\n",
       "      <td>17</td>\n",
       "      <td>Update your bathroom with the Delta Vero Singl...</td>\n",
       "      <td>Delta Vero 1-Handle Shower Only Faucet Trim Ki...</td>\n",
       "      <td>100005</td>\n",
       "      <td>2.67</td>\n",
       "      <td>shower only faucet</td>\n",
       "      <td>update your bathroom with the delta vero singl...</td>\n",
       "      <td>delta vero 1handle shower only faucet trim kit...</td>\n",
       "      <td>shower only faucet</td>\n",
       "      <td>combo tub and shower no includes the trim kit ...</td>\n",
       "      <td>updat your bathroom with the delta vero single...</td>\n",
       "      <td>delta vero shower onli faucet trim kit in chro...</td>\n",
       "      <td>shower onli faucet</td>\n",
       "      <td>combo tub and shower no includ the trim kit on...</td>\n",
       "    </tr>\n",
       "  </tbody>\n",
       "</table>\n",
       "</div>"
      ],
      "text/plain": [
       "                                           attribute                        ...                                                          attribute_stemmed\n",
       "0  Versatile connector for various 90 connections...                        ...                          versatil connector for variou connect and home...\n",
       "1  Versatile connector for various 90 connections...                        ...                          versatil connector for variou connect and home...\n",
       "2  Brush,Roller,Spray 6.63 in 7.76 in 6.63 in Rev...                        ...                          brushrollerspray in in in reviv wood and compo...\n",
       "3  Combo Tub and Shower No Includes the trim kit ...                        ...                          combo tub and shower no includ the trim kit on...\n",
       "4  Combo Tub and Shower No Includes the trim kit ...                        ...                          combo tub and shower no includ the trim kit on...\n",
       "\n",
       "[5 rows x 15 columns]"
      ]
     },
     "execution_count": 3,
     "metadata": {},
     "output_type": "execute_result"
    }
   ],
   "source": [
    "df_all.head()"
   ]
  },
  {
   "cell_type": "code",
   "execution_count": 4,
   "metadata": {
    "_uuid": "1132f41c2c3f3b6d6da7171276bfb44bd1ef76bd"
   },
   "outputs": [
    {
     "data": {
      "text/plain": [
       "attribute                       43974\n",
       "id                                  0\n",
       "product_description                 0\n",
       "product_title                       0\n",
       "product_uid                         0\n",
       "relevance                      112067\n",
       "search_term                         0\n",
       "product_description_tokens          0\n",
       "product_title_tokens                0\n",
       "search_term_tokens                  0\n",
       "attribute_tokens                43974\n",
       "product_description_stemmed         0\n",
       "product_title_stemmed               0\n",
       "search_term_stemmed                 0\n",
       "attribute_stemmed               43974\n",
       "dtype: int64"
      ]
     },
     "execution_count": 4,
     "metadata": {},
     "output_type": "execute_result"
    }
   ],
   "source": [
    "df_all.isnull().sum()"
   ]
  },
  {
   "cell_type": "code",
   "execution_count": 5,
   "metadata": {
    "_uuid": "24ff2306f7ff1484b2765cad6c7317dd3c263278"
   },
   "outputs": [],
   "source": [
    "df_all.fillna(\"\",inplace=True)"
   ]
  },
  {
   "cell_type": "code",
   "execution_count": 6,
   "metadata": {
    "_uuid": "befc94a3c4c338e0f17443a0bacc4a578a2ac534"
   },
   "outputs": [],
   "source": [
    "df_all['cos_description_tfidf'] = 0\n",
    "df_all['cos_title_tfidf'] = 0\n",
    "df_all['cos_attribute_tfidf'] = 0"
   ]
  },
  {
   "cell_type": "code",
   "execution_count": 7,
   "metadata": {
    "_uuid": "f3aa60de8c2c061fce60b68c64715926940a2e5f"
   },
   "outputs": [],
   "source": [
    "#df_all = df_all[:10]"
   ]
  },
  {
   "cell_type": "code",
   "execution_count": 8,
   "metadata": {
    "_uuid": "712df38e449900227501998467c662fe23187363"
   },
   "outputs": [],
   "source": [
    "product = df_all.drop_duplicates(\"product_uid\")"
   ]
  },
  {
   "cell_type": "code",
   "execution_count": 9,
   "metadata": {
    "_uuid": "4a813a5b5a8f466f11d9608f6db3ac096641ad41"
   },
   "outputs": [],
   "source": [
    "#product"
   ]
  },
  {
   "cell_type": "code",
   "execution_count": 10,
   "metadata": {
    "_uuid": "4ae3a133b8ce7d94693c3cab904417189db10dde"
   },
   "outputs": [],
   "source": [
    "def get_cosine_sim(*strs): \n",
    "    vectors = [t for t in get_vectors(*strs)]\n",
    "    return cosine_similarity(vectors)\n",
    "    \n",
    "\n",
    "def get_tfidf(text, q):\n",
    "    cv = TfidfVectorizer()\n",
    "    cv.fit(text)\n",
    "    return cv.transform(text),cv.transform(q)\n"
   ]
  },
  {
   "cell_type": "code",
   "execution_count": 11,
   "metadata": {
    "_uuid": "5b5e774b3218e1fa33ffe1edaa419a8dd9327061"
   },
   "outputs": [],
   "source": [
    "if False:\n",
    "    total_des = product.product_description.values\n",
    "    total_search = df_all.search_term.values\n",
    "    total_title = product.product_title.values\n",
    "    total_attr = product.product_info.values"
   ]
  },
  {
   "cell_type": "code",
   "execution_count": 12,
   "metadata": {
    "_uuid": "d438cb23367f7ece74ecf864aaf25718b809b516"
   },
   "outputs": [
    {
     "data": {
      "text/plain": [
       "Index(['attribute', 'id', 'product_description', 'product_title',\n",
       "       'product_uid', 'relevance', 'search_term', 'product_description_tokens',\n",
       "       'product_title_tokens', 'search_term_tokens', 'attribute_tokens',\n",
       "       'product_description_stemmed', 'product_title_stemmed',\n",
       "       'search_term_stemmed', 'attribute_stemmed', 'cos_description_tfidf',\n",
       "       'cos_title_tfidf', 'cos_attribute_tfidf'],\n",
       "      dtype='object')"
      ]
     },
     "execution_count": 12,
     "metadata": {},
     "output_type": "execute_result"
    }
   ],
   "source": [
    "product.columns"
   ]
  },
  {
   "cell_type": "code",
   "execution_count": 13,
   "metadata": {
    "_uuid": "344d7f6971b2a78f7c329046938f214c3156f783"
   },
   "outputs": [
    {
     "data": {
      "text/plain": [
       "106650"
      ]
     },
     "execution_count": 13,
     "metadata": {},
     "output_type": "execute_result"
    }
   ],
   "source": [
    "len(product)"
   ]
  },
  {
   "cell_type": "code",
   "execution_count": 14,
   "metadata": {
    "_uuid": "4588952258f69d75a76cd61f814b66f51fb55c79"
   },
   "outputs": [],
   "source": [
    "#product = product[:10]"
   ]
  },
  {
   "cell_type": "code",
   "execution_count": 15,
   "metadata": {
    "_uuid": "a58d190b102fed9d00a8d03ff467265271d31820"
   },
   "outputs": [],
   "source": [
    "total_des = product.product_description_stemmed.values\n",
    "total_search = df_all.search_term_stemmed.values\n",
    "total_title = product.product_title_stemmed.values\n",
    "total_attr = product.attribute_stemmed.values"
   ]
  },
  {
   "cell_type": "code",
   "execution_count": 16,
   "metadata": {
    "_uuid": "fafa8780fc218c90419a4c685cce172e24e6da2a"
   },
   "outputs": [],
   "source": [
    "num_product = len(product)"
   ]
  },
  {
   "cell_type": "code",
   "execution_count": 17,
   "metadata": {
    "_kg_hide-input": false,
    "_kg_hide-output": false,
    "_uuid": "b64e08e50c367503005f56aebd2196001083718d"
   },
   "outputs": [],
   "source": [
    "term_description_matrix, des_search_mat = get_tfidf(total_des,total_search)\n",
    "term_attr_matrix, attr_search_mat = get_tfidf(total_attr,total_search)\n",
    "term_title_matrix, title_search_mat = get_tfidf(total_title,total_search)"
   ]
  },
  {
   "cell_type": "code",
   "execution_count": 18,
   "metadata": {
    "_uuid": "f45702096d3dc2bdcf06bafd27e8621b0887f7c2"
   },
   "outputs": [],
   "source": [
    "product[\"des_mat\"] = [i for i in term_description_matrix]\n",
    "product[\"attr_mat\"] = [i for i in term_attr_matrix]\n",
    "product[\"title_mat\"] = [i for i in term_title_matrix]"
   ]
  },
  {
   "cell_type": "code",
   "execution_count": 19,
   "metadata": {
    "_uuid": "b631aa1d1dcbdf43b355c7d404ec206f03317c5b"
   },
   "outputs": [],
   "source": [
    "df_all[\"search_des_mat\"] = [i for i in des_search_mat]\n",
    "df_all[\"search_attr_mat\"] = [i for i in attr_search_mat]\n",
    "df_all[\"search_title_mat\"] = [i for i in title_search_mat]"
   ]
  },
  {
   "cell_type": "code",
   "execution_count": 20,
   "metadata": {
    "_uuid": "c44d56fefb7f5a5812735db9cb9960d627d06613"
   },
   "outputs": [],
   "source": [
    "product_merge = product[[\"product_uid\",\"des_mat\",\"attr_mat\",\"title_mat\"]]"
   ]
  },
  {
   "cell_type": "code",
   "execution_count": 21,
   "metadata": {
    "_uuid": "55ecd024c302880df3c25b1e54d0d207ff6725a0"
   },
   "outputs": [],
   "source": [
    "new_df_all = df_all.merge(product_merge,on = \"product_uid\",how = \"outer\")"
   ]
  },
  {
   "cell_type": "code",
   "execution_count": 22,
   "metadata": {
    "_uuid": "3b46696959a788e43c95530a1082ea60f02937c7"
   },
   "outputs": [],
   "source": [
    "@numba.jit\n",
    "def cos(*x):\n",
    "    return cosine_similarity(x[0].reshape(1,-1), x[1].reshape(1,-1))[0][0]"
   ]
  },
  {
   "cell_type": "code",
   "execution_count": 23,
   "metadata": {
    "_uuid": "d6b1560d7ab4683c1c0483670b91c7c6c814dcc7"
   },
   "outputs": [],
   "source": [
    "new_df_all[\"cos_description_tfidf\"] = new_df_all[[\"search_des_mat\",\"des_mat\"]].apply(lambda x:cos(*x),axis = 1) \n",
    "new_df_all[\"cos_title_tfidf\"] = new_df_all[[\"search_title_mat\",\"title_mat\"]].apply(lambda x:cos(*x),axis = 1) \n",
    "new_df_all[\"cos_attribute_tfidf\"] = new_df_all[[\"search_attr_mat\",\"attr_mat\"]].apply(lambda x:cos(*x),axis = 1) "
   ]
  },
  {
   "cell_type": "code",
   "execution_count": 24,
   "metadata": {
    "_uuid": "ce7c504f900f25735354cdfe6899faba62a2d896"
   },
   "outputs": [
    {
     "data": {
      "text/html": [
       "<div>\n",
       "<style scoped>\n",
       "    .dataframe tbody tr th:only-of-type {\n",
       "        vertical-align: middle;\n",
       "    }\n",
       "\n",
       "    .dataframe tbody tr th {\n",
       "        vertical-align: top;\n",
       "    }\n",
       "\n",
       "    .dataframe thead th {\n",
       "        text-align: right;\n",
       "    }\n",
       "</style>\n",
       "<table border=\"1\" class=\"dataframe\">\n",
       "  <thead>\n",
       "    <tr style=\"text-align: right;\">\n",
       "      <th></th>\n",
       "      <th>attribute</th>\n",
       "      <th>id</th>\n",
       "      <th>product_description</th>\n",
       "      <th>product_title</th>\n",
       "      <th>product_uid</th>\n",
       "      <th>relevance</th>\n",
       "      <th>search_term</th>\n",
       "      <th>product_description_tokens</th>\n",
       "      <th>product_title_tokens</th>\n",
       "      <th>search_term_tokens</th>\n",
       "      <th>attribute_tokens</th>\n",
       "      <th>product_description_stemmed</th>\n",
       "      <th>product_title_stemmed</th>\n",
       "      <th>search_term_stemmed</th>\n",
       "      <th>attribute_stemmed</th>\n",
       "      <th>cos_description_tfidf</th>\n",
       "      <th>cos_title_tfidf</th>\n",
       "      <th>cos_attribute_tfidf</th>\n",
       "      <th>search_des_mat</th>\n",
       "      <th>search_attr_mat</th>\n",
       "      <th>search_title_mat</th>\n",
       "      <th>des_mat</th>\n",
       "      <th>attr_mat</th>\n",
       "      <th>title_mat</th>\n",
       "    </tr>\n",
       "  </thead>\n",
       "  <tbody>\n",
       "    <tr>\n",
       "      <th>0</th>\n",
       "      <td>Versatile connector for various 90 connections...</td>\n",
       "      <td>2</td>\n",
       "      <td>Not only do angles make joints stronger, they ...</td>\n",
       "      <td>Simpson Strong-Tie 12-Gauge Angle</td>\n",
       "      <td>100001</td>\n",
       "      <td>3</td>\n",
       "      <td>angle bracket</td>\n",
       "      <td>not only do angles make joints stronger they a...</td>\n",
       "      <td>simpson strongtie 12gauge angle</td>\n",
       "      <td>angle bracket</td>\n",
       "      <td>versatile connector for various 90 connections...</td>\n",
       "      <td>not onli do angl make joint stronger they also...</td>\n",
       "      <td>simpson strongti angl</td>\n",
       "      <td>angl bracket</td>\n",
       "      <td>versatil connector for variou connect and home...</td>\n",
       "      <td>0.181655</td>\n",
       "      <td>0.408386</td>\n",
       "      <td>0.108474</td>\n",
       "      <td>(0, 21487)\\t0.7003631580877346\\n  (0, 5536)\\...</td>\n",
       "      <td>(0, 3516)\\t0.6943144837101669\\n  (0, 924)\\t0...</td>\n",
       "      <td>(0, 2243)\\t0.6967857622566913\\n  (0, 632)\\t0...</td>\n",
       "      <td>(0, 240987)\\t0.17295095304747096\\n  (0, 2408...</td>\n",
       "      <td>(0, 33401)\\t0.05663431949844082\\n  (0, 32159...</td>\n",
       "      <td>(0, 18397)\\t0.5847258029435652\\n  (0, 17173)...</td>\n",
       "    </tr>\n",
       "    <tr>\n",
       "      <th>1</th>\n",
       "      <td>Versatile connector for various 90 connections...</td>\n",
       "      <td>3</td>\n",
       "      <td>Not only do angles make joints stronger, they ...</td>\n",
       "      <td>Simpson Strong-Tie 12-Gauge Angle</td>\n",
       "      <td>100001</td>\n",
       "      <td>2.5</td>\n",
       "      <td>l bracket</td>\n",
       "      <td>not only do angles make joints stronger they a...</td>\n",
       "      <td>simpson strongtie 12gauge angle</td>\n",
       "      <td>l bracket</td>\n",
       "      <td>versatile connector for various 90 connections...</td>\n",
       "      <td>not onli do angl make joint stronger they also...</td>\n",
       "      <td>simpson strongti angl</td>\n",
       "      <td>l bracket</td>\n",
       "      <td>versatil connector for variou connect and home...</td>\n",
       "      <td>0.000000</td>\n",
       "      <td>0.000000</td>\n",
       "      <td>0.000000</td>\n",
       "      <td>(0, 21487)\\t1.0</td>\n",
       "      <td>(0, 3516)\\t1.0</td>\n",
       "      <td>(0, 2243)\\t1.0</td>\n",
       "      <td>(0, 240987)\\t0.17295095304747096\\n  (0, 2408...</td>\n",
       "      <td>(0, 33401)\\t0.05663431949844082\\n  (0, 32159...</td>\n",
       "      <td>(0, 18397)\\t0.5847258029435652\\n  (0, 17173)...</td>\n",
       "    </tr>\n",
       "    <tr>\n",
       "      <th>2</th>\n",
       "      <td>Versatile connector for various 90 connections...</td>\n",
       "      <td>4</td>\n",
       "      <td>Not only do angles make joints stronger, they ...</td>\n",
       "      <td>Simpson Strong-Tie 12-Gauge Angle</td>\n",
       "      <td>100001</td>\n",
       "      <td></td>\n",
       "      <td>metal l brackets</td>\n",
       "      <td>not only do angles make joints stronger they a...</td>\n",
       "      <td>simpson strongtie 12gauge angle</td>\n",
       "      <td>metal l brackets</td>\n",
       "      <td>versatile connector for various 90 connections...</td>\n",
       "      <td>not onli do angl make joint stronger they also...</td>\n",
       "      <td>simpson strongti angl</td>\n",
       "      <td>metal l bracket</td>\n",
       "      <td>versatil connector for variou connect and home...</td>\n",
       "      <td>0.000000</td>\n",
       "      <td>0.000000</td>\n",
       "      <td>0.000000</td>\n",
       "      <td>(0, 133111)\\t0.5727900740586263\\n  (0, 21487...</td>\n",
       "      <td>(0, 18415)\\t0.5281904681321918\\n  (0, 3516)\\...</td>\n",
       "      <td>(0, 11716)\\t0.6171476906484157\\n  (0, 2243)\\...</td>\n",
       "      <td>(0, 240987)\\t0.17295095304747096\\n  (0, 2408...</td>\n",
       "      <td>(0, 33401)\\t0.05663431949844082\\n  (0, 32159...</td>\n",
       "      <td>(0, 18397)\\t0.5847258029435652\\n  (0, 17173)...</td>\n",
       "    </tr>\n",
       "    <tr>\n",
       "      <th>3</th>\n",
       "      <td>Versatile connector for various 90 connections...</td>\n",
       "      <td>5</td>\n",
       "      <td>Not only do angles make joints stronger, they ...</td>\n",
       "      <td>Simpson Strong-Tie 12-Gauge Angle</td>\n",
       "      <td>100001</td>\n",
       "      <td></td>\n",
       "      <td>simpson sku able</td>\n",
       "      <td>not only do angles make joints stronger they a...</td>\n",
       "      <td>simpson strongtie 12gauge angle</td>\n",
       "      <td>simpson sku able</td>\n",
       "      <td>versatile connector for various 90 connections...</td>\n",
       "      <td>not onli do angl make joint stronger they also...</td>\n",
       "      <td>simpson strongti angl</td>\n",
       "      <td>simpson sku abl</td>\n",
       "      <td>versatil connector for variou connect and home...</td>\n",
       "      <td>0.068423</td>\n",
       "      <td>0.577868</td>\n",
       "      <td>0.100501</td>\n",
       "      <td>(0, 193901)\\t0.6569067547071865\\n  (0, 19258...</td>\n",
       "      <td>(0, 27142)\\t0.6383309638889721\\n  (0, 26935)...</td>\n",
       "      <td>(0, 17173)\\t1.0</td>\n",
       "      <td>(0, 240987)\\t0.17295095304747096\\n  (0, 2408...</td>\n",
       "      <td>(0, 33401)\\t0.05663431949844082\\n  (0, 32159...</td>\n",
       "      <td>(0, 18397)\\t0.5847258029435652\\n  (0, 17173)...</td>\n",
       "    </tr>\n",
       "    <tr>\n",
       "      <th>4</th>\n",
       "      <td>Versatile connector for various 90 connections...</td>\n",
       "      <td>6</td>\n",
       "      <td>Not only do angles make joints stronger, they ...</td>\n",
       "      <td>Simpson Strong-Tie 12-Gauge Angle</td>\n",
       "      <td>100001</td>\n",
       "      <td></td>\n",
       "      <td>simpson strong  ties</td>\n",
       "      <td>not only do angles make joints stronger they a...</td>\n",
       "      <td>simpson strongtie 12gauge angle</td>\n",
       "      <td>simpson strong ties</td>\n",
       "      <td>versatile connector for various 90 connections...</td>\n",
       "      <td>not onli do angl make joint stronger they also...</td>\n",
       "      <td>simpson strongti angl</td>\n",
       "      <td>simpson strong tie</td>\n",
       "      <td>versatil connector for variou connect and home...</td>\n",
       "      <td>0.079600</td>\n",
       "      <td>0.267189</td>\n",
       "      <td>0.187175</td>\n",
       "      <td>(0, 215757)\\t0.6051441730547947\\n  (0, 20581...</td>\n",
       "      <td>(0, 30218)\\t0.6266301988700662\\n  (0, 28852)...</td>\n",
       "      <td>(0, 19282)\\t0.5332915599681283\\n  (0, 18391)...</td>\n",
       "      <td>(0, 240987)\\t0.17295095304747096\\n  (0, 2408...</td>\n",
       "      <td>(0, 33401)\\t0.05663431949844082\\n  (0, 32159...</td>\n",
       "      <td>(0, 18397)\\t0.5847258029435652\\n  (0, 17173)...</td>\n",
       "    </tr>\n",
       "  </tbody>\n",
       "</table>\n",
       "</div>"
      ],
      "text/plain": [
       "                                           attribute                        ...                                                                  title_mat\n",
       "0  Versatile connector for various 90 connections...                        ...                            (0, 18397)\\t0.5847258029435652\\n  (0, 17173)...\n",
       "1  Versatile connector for various 90 connections...                        ...                            (0, 18397)\\t0.5847258029435652\\n  (0, 17173)...\n",
       "2  Versatile connector for various 90 connections...                        ...                            (0, 18397)\\t0.5847258029435652\\n  (0, 17173)...\n",
       "3  Versatile connector for various 90 connections...                        ...                            (0, 18397)\\t0.5847258029435652\\n  (0, 17173)...\n",
       "4  Versatile connector for various 90 connections...                        ...                            (0, 18397)\\t0.5847258029435652\\n  (0, 17173)...\n",
       "\n",
       "[5 rows x 24 columns]"
      ]
     },
     "execution_count": 24,
     "metadata": {},
     "output_type": "execute_result"
    }
   ],
   "source": [
    "new_df_all.head()"
   ]
  },
  {
   "cell_type": "code",
   "execution_count": 25,
   "metadata": {
    "_uuid": "a4480be6d5c484c0c3f22326aa898bce967d562b"
   },
   "outputs": [],
   "source": [
    "new_df_all[[\"cos_description_tfidf\",\"cos_title_tfidf\",\"cos_attribute_tfidf\"]].to_csv(\"df_all_tfidf.csv\",index = False)"
   ]
  },
  {
   "cell_type": "code",
   "execution_count": 26,
   "metadata": {
    "_uuid": "89545f274e4dc2cf9a71b953c2f2072522fff23e"
   },
   "outputs": [],
   "source": [
    "new_df_all.to_csv(\"df_all_tfidf_with_matrix.csv\",index = False)"
   ]
  },
  {
   "cell_type": "code",
   "execution_count": 27,
   "metadata": {
    "_uuid": "bc0831d4633d279064e85abf16fc40a76db55d94"
   },
   "outputs": [],
   "source": []
  }
 ],
 "metadata": {
  "kernelspec": {
   "display_name": "Python 3",
   "language": "python",
   "name": "python3"
  },
  "language_info": {
   "codemirror_mode": {
    "name": "ipython",
    "version": 3
   },
   "file_extension": ".py",
   "mimetype": "text/x-python",
   "name": "python",
   "nbconvert_exporter": "python",
   "pygments_lexer": "ipython3",
   "version": "3.6.8"
  }
 },
 "nbformat": 4,
 "nbformat_minor": 1
}
