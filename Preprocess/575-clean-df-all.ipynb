{
 "cells": [
  {
   "cell_type": "code",
   "execution_count": 1,
   "metadata": {
    "_cell_guid": "b1076dfc-b9ad-4769-8c92-a6c4dae69d19",
    "_uuid": "8f2839f25d086af736a60e9eeb907d3b93b6e0e5"
   },
   "outputs": [
    {
     "name": "stdout",
     "output_type": "stream",
     "text": [
      "['feature_test.csv', 'custom.css', '__results__.html', 'feature_train.csv', 'product_expand.csv', 'df_all_toeknized.csv', '__output__.json', '__notebook__.ipynb']\n"
     ]
    }
   ],
   "source": [
    "# This Python 3 environment comes with many helpful analytics libraries installed\n",
    "# It is defined by the kaggle/python docker image: https://github.com/kaggle/docker-python\n",
    "# For example, here's several helpful packages to load in \n",
    "\n",
    "import numpy as np # linear algebra\n",
    "import pandas as pd # data processing, CSV file I/O (e.g. pd.read_csv)\n",
    "import os\n",
    "import time\n",
    "from sklearn.ensemble import RandomForestRegressor, BaggingRegressor\n",
    "from nltk.stem.snowball import SnowballStemmer\n",
    "from collections import Counter\n",
    "from sklearn.feature_extraction.text import CountVectorizer\n",
    "from sklearn.metrics.pairwise import cosine_similarity\n",
    "import warnings\n",
    "warnings.filterwarnings('ignore')\n",
    "\n",
    "# Input data files are available in the \"../input/\" directory.\n",
    "# For example, running this (by clicking run or pressing Shift+Enter) will list the files in the input directory\n",
    "\n",
    "import os\n",
    "print(os.listdir(\"../input/\"))\n",
    "import numba\n",
    "\n",
    "# Any results you write to the current directory are saved as output."
   ]
  },
  {
   "cell_type": "code",
   "execution_count": 2,
   "metadata": {
    "_cell_guid": "79c7e3d0-c299-4dcb-8224-4455121ee9b0",
    "_uuid": "d629ff2d2480ee46fbb7e2d37f6b5fab8052498a"
   },
   "outputs": [],
   "source": [
    "df_all = pd.read_csv('../input/df_all_toeknized.csv',sep = \"\\t\")\n"
   ]
  },
  {
   "cell_type": "code",
   "execution_count": 3,
   "metadata": {
    "_uuid": "fc7cfa0a4e7e54503988fcd7926dd56c447da369"
   },
   "outputs": [
    {
     "data": {
      "text/html": [
       "<div>\n",
       "<style scoped>\n",
       "    .dataframe tbody tr th:only-of-type {\n",
       "        vertical-align: middle;\n",
       "    }\n",
       "\n",
       "    .dataframe tbody tr th {\n",
       "        vertical-align: top;\n",
       "    }\n",
       "\n",
       "    .dataframe thead th {\n",
       "        text-align: right;\n",
       "    }\n",
       "</style>\n",
       "<table border=\"1\" class=\"dataframe\">\n",
       "  <thead>\n",
       "    <tr style=\"text-align: right;\">\n",
       "      <th></th>\n",
       "      <th>attribute</th>\n",
       "      <th>id</th>\n",
       "      <th>product_description</th>\n",
       "      <th>product_title</th>\n",
       "      <th>product_uid</th>\n",
       "      <th>relevance</th>\n",
       "      <th>search_term</th>\n",
       "      <th>product_description_tokens</th>\n",
       "      <th>product_title_tokens</th>\n",
       "      <th>search_term_tokens</th>\n",
       "      <th>attribute_tokens</th>\n",
       "      <th>product_description_stemmed</th>\n",
       "      <th>product_title_stemmed</th>\n",
       "      <th>search_term_stemmed</th>\n",
       "      <th>attribute_stemmed</th>\n",
       "    </tr>\n",
       "  </thead>\n",
       "  <tbody>\n",
       "    <tr>\n",
       "      <th>0</th>\n",
       "      <td>Versatile connector for various 90 connections...</td>\n",
       "      <td>2</td>\n",
       "      <td>Not only do angles make joints stronger, they ...</td>\n",
       "      <td>Simpson Strong-Tie 12-Gauge Angle</td>\n",
       "      <td>100001</td>\n",
       "      <td>3.00</td>\n",
       "      <td>angle bracket</td>\n",
       "      <td>not only do angles make joints stronger they a...</td>\n",
       "      <td>simpson strongtie 12gauge angle</td>\n",
       "      <td>angle bracket</td>\n",
       "      <td>versatile connector for various 90 connections...</td>\n",
       "      <td>not onli do angl make joint stronger they also...</td>\n",
       "      <td>simpson strongti angl</td>\n",
       "      <td>angl bracket</td>\n",
       "      <td>versatil connector for variou connect and home...</td>\n",
       "    </tr>\n",
       "    <tr>\n",
       "      <th>1</th>\n",
       "      <td>Versatile connector for various 90 connections...</td>\n",
       "      <td>3</td>\n",
       "      <td>Not only do angles make joints stronger, they ...</td>\n",
       "      <td>Simpson Strong-Tie 12-Gauge Angle</td>\n",
       "      <td>100001</td>\n",
       "      <td>2.50</td>\n",
       "      <td>l bracket</td>\n",
       "      <td>not only do angles make joints stronger they a...</td>\n",
       "      <td>simpson strongtie 12gauge angle</td>\n",
       "      <td>l bracket</td>\n",
       "      <td>versatile connector for various 90 connections...</td>\n",
       "      <td>not onli do angl make joint stronger they also...</td>\n",
       "      <td>simpson strongti angl</td>\n",
       "      <td>l bracket</td>\n",
       "      <td>versatil connector for variou connect and home...</td>\n",
       "    </tr>\n",
       "    <tr>\n",
       "      <th>2</th>\n",
       "      <td>Brush,Roller,Spray 6.63 in 7.76 in 6.63 in Rev...</td>\n",
       "      <td>9</td>\n",
       "      <td>BEHR Premium Textured DECKOVER is an innovativ...</td>\n",
       "      <td>BEHR Premium Textured DeckOver 1-gal. #SC-141 ...</td>\n",
       "      <td>100002</td>\n",
       "      <td>3.00</td>\n",
       "      <td>deck over</td>\n",
       "      <td>behr premium textured deckover is an innovativ...</td>\n",
       "      <td>behr premium textured deckover 1gal sc141 tugb...</td>\n",
       "      <td>deck over</td>\n",
       "      <td>brushrollerspray 663 in 776 in 663 in revives ...</td>\n",
       "      <td>behr premium textur deckov is an innov solid c...</td>\n",
       "      <td>behr premium textur deckov tugboat wood and co...</td>\n",
       "      <td>deck over</td>\n",
       "      <td>brushrollerspray in in in reviv wood and compo...</td>\n",
       "    </tr>\n",
       "    <tr>\n",
       "      <th>3</th>\n",
       "      <td>Combo Tub and Shower No Includes the trim kit ...</td>\n",
       "      <td>16</td>\n",
       "      <td>Update your bathroom with the Delta Vero Singl...</td>\n",
       "      <td>Delta Vero 1-Handle Shower Only Faucet Trim Ki...</td>\n",
       "      <td>100005</td>\n",
       "      <td>2.33</td>\n",
       "      <td>rain shower head</td>\n",
       "      <td>update your bathroom with the delta vero singl...</td>\n",
       "      <td>delta vero 1handle shower only faucet trim kit...</td>\n",
       "      <td>rain shower head</td>\n",
       "      <td>combo tub and shower no includes the trim kit ...</td>\n",
       "      <td>updat your bathroom with the delta vero single...</td>\n",
       "      <td>delta vero shower onli faucet trim kit in chro...</td>\n",
       "      <td>rain shower head</td>\n",
       "      <td>combo tub and shower no includ the trim kit on...</td>\n",
       "    </tr>\n",
       "    <tr>\n",
       "      <th>4</th>\n",
       "      <td>Combo Tub and Shower No Includes the trim kit ...</td>\n",
       "      <td>17</td>\n",
       "      <td>Update your bathroom with the Delta Vero Singl...</td>\n",
       "      <td>Delta Vero 1-Handle Shower Only Faucet Trim Ki...</td>\n",
       "      <td>100005</td>\n",
       "      <td>2.67</td>\n",
       "      <td>shower only faucet</td>\n",
       "      <td>update your bathroom with the delta vero singl...</td>\n",
       "      <td>delta vero 1handle shower only faucet trim kit...</td>\n",
       "      <td>shower only faucet</td>\n",
       "      <td>combo tub and shower no includes the trim kit ...</td>\n",
       "      <td>updat your bathroom with the delta vero single...</td>\n",
       "      <td>delta vero shower onli faucet trim kit in chro...</td>\n",
       "      <td>shower onli faucet</td>\n",
       "      <td>combo tub and shower no includ the trim kit on...</td>\n",
       "    </tr>\n",
       "  </tbody>\n",
       "</table>\n",
       "</div>"
      ],
      "text/plain": [
       "                                           attribute                        ...                                                          attribute_stemmed\n",
       "0  Versatile connector for various 90 connections...                        ...                          versatil connector for variou connect and home...\n",
       "1  Versatile connector for various 90 connections...                        ...                          versatil connector for variou connect and home...\n",
       "2  Brush,Roller,Spray 6.63 in 7.76 in 6.63 in Rev...                        ...                          brushrollerspray in in in reviv wood and compo...\n",
       "3  Combo Tub and Shower No Includes the trim kit ...                        ...                          combo tub and shower no includ the trim kit on...\n",
       "4  Combo Tub and Shower No Includes the trim kit ...                        ...                          combo tub and shower no includ the trim kit on...\n",
       "\n",
       "[5 rows x 15 columns]"
      ]
     },
     "execution_count": 3,
     "metadata": {},
     "output_type": "execute_result"
    }
   ],
   "source": [
    "df_all.head()"
   ]
  },
  {
   "cell_type": "code",
   "execution_count": 4,
   "metadata": {
    "_uuid": "3a8d6b0b6926b204c6fbe2c899f86918edee52fe"
   },
   "outputs": [
    {
     "data": {
      "text/plain": [
       "attribute                       43974\n",
       "id                                  0\n",
       "product_description                 0\n",
       "product_title                       0\n",
       "product_uid                         0\n",
       "relevance                      112067\n",
       "search_term                         0\n",
       "product_description_tokens          0\n",
       "product_title_tokens                0\n",
       "search_term_tokens                  0\n",
       "attribute_tokens                43974\n",
       "product_description_stemmed         0\n",
       "product_title_stemmed               0\n",
       "search_term_stemmed               626\n",
       "attribute_stemmed               43974\n",
       "dtype: int64"
      ]
     },
     "execution_count": 4,
     "metadata": {},
     "output_type": "execute_result"
    }
   ],
   "source": [
    "df_all.isnull().sum()"
   ]
  },
  {
   "cell_type": "markdown",
   "metadata": {
    "_uuid": "1164c119c7a5bf17055e089e4d2c95edf42e503d"
   },
   "source": [
    "## Some seacrch_term only contains numbers so they become null because I use isalpha to filter them. So I assign them with tokens"
   ]
  },
  {
   "cell_type": "code",
   "execution_count": 5,
   "metadata": {
    "_uuid": "9276b22fa9ad90a1425bd19be1bad0d85beb4619"
   },
   "outputs": [],
   "source": [
    "df_all.search_term_stemmed.fillna(df_all.search_term_tokens, inplace=True)"
   ]
  },
  {
   "cell_type": "code",
   "execution_count": 6,
   "metadata": {
    "_uuid": "d979659f9ad3bd11ba6859302110fa2b57ec068c"
   },
   "outputs": [
    {
     "data": {
      "text/plain": [
       "attribute                       43974\n",
       "id                                  0\n",
       "product_description                 0\n",
       "product_title                       0\n",
       "product_uid                         0\n",
       "relevance                      112067\n",
       "search_term                         0\n",
       "product_description_tokens          0\n",
       "product_title_tokens                0\n",
       "search_term_tokens                  0\n",
       "attribute_tokens                43974\n",
       "product_description_stemmed         0\n",
       "product_title_stemmed               0\n",
       "search_term_stemmed                 0\n",
       "attribute_stemmed               43974\n",
       "dtype: int64"
      ]
     },
     "execution_count": 6,
     "metadata": {},
     "output_type": "execute_result"
    }
   ],
   "source": [
    "df_all.isnull().sum()"
   ]
  },
  {
   "cell_type": "code",
   "execution_count": 7,
   "metadata": {
    "_uuid": "6389ecce07b109baa1136088e4c8305c16471cb3"
   },
   "outputs": [],
   "source": [
    "df_all.fillna(\"\",inplace=True)"
   ]
  },
  {
   "cell_type": "code",
   "execution_count": 8,
   "metadata": {
    "_uuid": "967c934c0a5f071dcc77b655089e871c5c42e7c2"
   },
   "outputs": [],
   "source": [
    "df_all.to_csv(\"df_all_toeknized_filled_na_search_term.csv\",index = False)"
   ]
  },
  {
   "cell_type": "code",
   "execution_count": 9,
   "metadata": {
    "_uuid": "befc94a3c4c338e0f17443a0bacc4a578a2ac534"
   },
   "outputs": [],
   "source": [
    "df_all['cos_description'] = 0\n",
    "df_all['cos_title'] = 0\n",
    "df_all['cos_attribute'] = 0"
   ]
  },
  {
   "cell_type": "code",
   "execution_count": 10,
   "metadata": {
    "_uuid": "4ae3a133b8ce7d94693c3cab904417189db10dde"
   },
   "outputs": [],
   "source": [
    "def get_cosine_sim(*strs): \n",
    "    try:\n",
    "        vectors = [t for t in get_vectors(*strs)]\n",
    "        return cosine_similarity(vectors)[0][1]\n",
    "    except:\n",
    "        return 0\n",
    "    \n",
    "def get_vectors(*strs):\n",
    "    text = [t for t in strs]\n",
    "    vectorizer = CountVectorizer(text)\n",
    "    vectorizer.fit(text)\n",
    "    return vectorizer.transform(text).toarray()\n",
    "\n",
    "def get_vectors_2(text):\n",
    "    cv = CountVectorizer(max_features=5000)\n",
    "    cv.fit(text)\n",
    "    return cv.transform(text)\n"
   ]
  },
  {
   "cell_type": "code",
   "execution_count": 11,
   "metadata": {
    "_uuid": "cb1e5390888cdb0b1f18044301b0cd65c3557b22"
   },
   "outputs": [],
   "source": [
    "#df_all = df_all[:10]"
   ]
  },
  {
   "cell_type": "markdown",
   "metadata": {
    "_uuid": "d6b1560d7ab4683c1c0483670b91c7c6c814dcc7"
   },
   "source": [
    "df_all[\"cos_description_stemmed\"] = df_all[[\"product_description_stemmed\",\"search_term_stemmed\"]].apply(lambda x:get_cosine_sim(*x),axis = 1) \n",
    "df_all[\"cos_title_stemmed\"] = df_all[[\"product_title_stemmed\",\"search_term_stemmed\"]].apply(lambda x:get_cosine_sim(*x),axis = 1) \n",
    "df_all[\"cos_attribute_stemmed\"] = df_all[[\"attribute_stemmed\",\"search_term_stemmed\"]].apply(lambda x:get_cosine_sim(*x),axis = 1) "
   ]
  },
  {
   "cell_type": "markdown",
   "metadata": {
    "_uuid": "c1e4141ef6fb253ba805daf38302b4629538dffe"
   },
   "source": []
  },
  {
   "cell_type": "code",
   "execution_count": 12,
   "metadata": {
    "_uuid": "a4480be6d5c484c0c3f22326aa898bce967d562b"
   },
   "outputs": [],
   "source": [
    "#df_all.to_csv(\"df_all_stemmed_cos_sim.csv\",index = False)"
   ]
  }
 ],
 "metadata": {
  "kernelspec": {
   "display_name": "Python 3",
   "language": "python",
   "name": "python3"
  },
  "language_info": {
   "codemirror_mode": {
    "name": "ipython",
    "version": 3
   },
   "file_extension": ".py",
   "mimetype": "text/x-python",
   "name": "python",
   "nbconvert_exporter": "python",
   "pygments_lexer": "ipython3",
   "version": "3.6.8"
  }
 },
 "nbformat": 4,
 "nbformat_minor": 1
}
