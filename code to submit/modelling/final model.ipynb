{
 "cells": [
  {
   "cell_type": "markdown",
   "metadata": {
    "_uuid": "cdc788dbf1d6af1ca6cb1a4c923e554565509afd"
   },
   "source": [
    "## This file creates the final model\n",
    "### Gaoyuan Huang\n",
    "### Jiaxi Peng\n",
    "### Zheheng Mao"
   ]
  },
  {
   "cell_type": "code",
   "execution_count": 1,
   "metadata": {
    "_cell_guid": "b1076dfc-b9ad-4769-8c92-a6c4dae69d19",
    "_uuid": "8f2839f25d086af736a60e9eeb907d3b93b6e0e5"
   },
   "outputs": [],
   "source": [
    "import numpy as np\n",
    "import pandas as pd\n",
    "import warnings\n",
    "warnings.filterwarnings('ignore')\n",
    "\n",
    "import math\n",
    "import re\n",
    "from sklearn.model_selection import train_test_split\n",
    "import nltk\n",
    "from nltk.tokenize import word_tokenize,sent_tokenize\n",
    "from nltk.corpus import stopwords\n",
    "from nltk.tokenize import RegexpTokenizer\n",
    "import gensim \n",
    "from sklearn.feature_extraction.text import CountVectorizer\n",
    "from nltk.stem import WordNetLemmatizer, PorterStemmer \n",
    "import string\n",
    "import spacy\n",
    "from sklearn.ensemble import GradientBoostingRegressor, GradientBoostingClassifier\n",
    "from sklearn.metrics import mean_squared_error, accuracy_score, confusion_matrix,make_scorer\n",
    "from math import sqrt\n",
    "from sklearn.ensemble import RandomForestRegressor, BaggingRegressor, RandomForestClassifier\n",
    "import xgboost as xgb\n",
    "from sklearn.model_selection import KFold, train_test_split, GridSearchCV\n",
    "import  matplotlib.pyplot  as plt\n",
    "from sklearn.preprocessing import LabelEncoder, OneHotEncoder\n",
    "from sklearn.linear_model import LinearRegression\n",
    "from sklearn.model_selection import cross_val_score\n"
   ]
  },
  {
   "cell_type": "code",
   "execution_count": 2,
   "metadata": {
    "_cell_guid": "79c7e3d0-c299-4dcb-8224-4455121ee9b0",
    "_uuid": "d629ff2d2480ee46fbb7e2d37f6b5fab8052498a"
   },
   "outputs": [],
   "source": [
    "test_df =  pd.read_csv('../input/575-all-features/features_testing.csv')\n",
    "train_df = pd.read_csv('../input/575-all-features/features_training.csv')"
   ]
  },
  {
   "cell_type": "code",
   "execution_count": 3,
   "metadata": {
    "_uuid": "878e47711da66e19525efb6ea6f337a787bb90d2"
   },
   "outputs": [],
   "source": [
    "if True:\n",
    "    train_df.drop([\"cos_sim\"], inplace=True, axis = 1)\n",
    "    test_df.drop([\"cos_sim\"], inplace=True, axis = 1)\n"
   ]
  },
  {
   "cell_type": "code",
   "execution_count": 4,
   "metadata": {
    "_uuid": "53a3eaa764c089fa8a69526ec2050a330cbee249"
   },
   "outputs": [
    {
     "data": {
      "text/html": [
       "<div>\n",
       "<style scoped>\n",
       "    .dataframe tbody tr th:only-of-type {\n",
       "        vertical-align: middle;\n",
       "    }\n",
       "\n",
       "    .dataframe tbody tr th {\n",
       "        vertical-align: top;\n",
       "    }\n",
       "\n",
       "    .dataframe thead th {\n",
       "        text-align: right;\n",
       "    }\n",
       "</style>\n",
       "<table border=\"1\" class=\"dataframe\">\n",
       "  <thead>\n",
       "    <tr style=\"text-align: right;\">\n",
       "      <th></th>\n",
       "      <th>cos_description_tfidf</th>\n",
       "      <th>cos_title_tfidf</th>\n",
       "      <th>cos_attribute_tfidf</th>\n",
       "      <th>word_in_brand</th>\n",
       "      <th>ratio_brand</th>\n",
       "      <th>sim_in_title</th>\n",
       "      <th>sim_in_description</th>\n",
       "      <th>len_of_query</th>\n",
       "      <th>cos_description_stemmed</th>\n",
       "      <th>cos_title_stemmed</th>\n",
       "      <th>cos_attribute_stemmed</th>\n",
       "      <th>num_in_description_no common number</th>\n",
       "      <th>num_in_title_no common number</th>\n",
       "      <th>num_in_attribute_no common number</th>\n",
       "      <th>word_in_title</th>\n",
       "      <th>word_in_description</th>\n",
       "      <th>word_in_attribute</th>\n",
       "      <th>ratio_title</th>\n",
       "      <th>ratio_description</th>\n",
       "      <th>ratio_attribute</th>\n",
       "      <th>jc_title</th>\n",
       "      <th>jc_description</th>\n",
       "      <th>jc_attribute</th>\n",
       "      <th>relevance</th>\n",
       "    </tr>\n",
       "  </thead>\n",
       "  <tbody>\n",
       "    <tr>\n",
       "      <th>0</th>\n",
       "      <td>0.181655</td>\n",
       "      <td>0.408386</td>\n",
       "      <td>0.108474</td>\n",
       "      <td>0</td>\n",
       "      <td>0.0</td>\n",
       "      <td>0.541130</td>\n",
       "      <td>0.514757</td>\n",
       "      <td>2</td>\n",
       "      <td>0.148522</td>\n",
       "      <td>0.408248</td>\n",
       "      <td>0.081111</td>\n",
       "      <td>0</td>\n",
       "      <td>0</td>\n",
       "      <td>0</td>\n",
       "      <td>1</td>\n",
       "      <td>1</td>\n",
       "      <td>1</td>\n",
       "      <td>0.500000</td>\n",
       "      <td>0.500000</td>\n",
       "      <td>0.500000</td>\n",
       "      <td>0.200000</td>\n",
       "      <td>0.000000</td>\n",
       "      <td>0.000000</td>\n",
       "      <td>3.00</td>\n",
       "    </tr>\n",
       "    <tr>\n",
       "      <th>1</th>\n",
       "      <td>0.000000</td>\n",
       "      <td>0.000000</td>\n",
       "      <td>0.000000</td>\n",
       "      <td>0</td>\n",
       "      <td>0.0</td>\n",
       "      <td>0.389561</td>\n",
       "      <td>0.411949</td>\n",
       "      <td>2</td>\n",
       "      <td>0.000000</td>\n",
       "      <td>0.000000</td>\n",
       "      <td>0.000000</td>\n",
       "      <td>0</td>\n",
       "      <td>0</td>\n",
       "      <td>0</td>\n",
       "      <td>1</td>\n",
       "      <td>1</td>\n",
       "      <td>1</td>\n",
       "      <td>0.500000</td>\n",
       "      <td>0.500000</td>\n",
       "      <td>0.500000</td>\n",
       "      <td>0.000000</td>\n",
       "      <td>0.000000</td>\n",
       "      <td>0.000000</td>\n",
       "      <td>2.50</td>\n",
       "    </tr>\n",
       "    <tr>\n",
       "      <th>2</th>\n",
       "      <td>0.000000</td>\n",
       "      <td>0.000000</td>\n",
       "      <td>0.000000</td>\n",
       "      <td>2</td>\n",
       "      <td>0.5</td>\n",
       "      <td>0.584328</td>\n",
       "      <td>0.690979</td>\n",
       "      <td>2</td>\n",
       "      <td>0.112906</td>\n",
       "      <td>0.000000</td>\n",
       "      <td>0.080845</td>\n",
       "      <td>0</td>\n",
       "      <td>0</td>\n",
       "      <td>0</td>\n",
       "      <td>1</td>\n",
       "      <td>1</td>\n",
       "      <td>2</td>\n",
       "      <td>0.500000</td>\n",
       "      <td>0.500000</td>\n",
       "      <td>1.000000</td>\n",
       "      <td>0.000000</td>\n",
       "      <td>0.008264</td>\n",
       "      <td>0.000000</td>\n",
       "      <td>3.00</td>\n",
       "    </tr>\n",
       "    <tr>\n",
       "      <th>3</th>\n",
       "      <td>0.068423</td>\n",
       "      <td>0.577868</td>\n",
       "      <td>0.100501</td>\n",
       "      <td>0</td>\n",
       "      <td>0.0</td>\n",
       "      <td>0.646968</td>\n",
       "      <td>0.659753</td>\n",
       "      <td>3</td>\n",
       "      <td>0.041451</td>\n",
       "      <td>0.166667</td>\n",
       "      <td>0.096225</td>\n",
       "      <td>0</td>\n",
       "      <td>0</td>\n",
       "      <td>0</td>\n",
       "      <td>1</td>\n",
       "      <td>1</td>\n",
       "      <td>2</td>\n",
       "      <td>0.333333</td>\n",
       "      <td>0.333333</td>\n",
       "      <td>0.666667</td>\n",
       "      <td>0.066667</td>\n",
       "      <td>0.012346</td>\n",
       "      <td>0.024390</td>\n",
       "      <td>2.33</td>\n",
       "    </tr>\n",
       "    <tr>\n",
       "      <th>4</th>\n",
       "      <td>0.079600</td>\n",
       "      <td>0.267189</td>\n",
       "      <td>0.187175</td>\n",
       "      <td>0</td>\n",
       "      <td>0.0</td>\n",
       "      <td>0.792618</td>\n",
       "      <td>0.645468</td>\n",
       "      <td>3</td>\n",
       "      <td>0.124354</td>\n",
       "      <td>0.500000</td>\n",
       "      <td>0.144338</td>\n",
       "      <td>0</td>\n",
       "      <td>0</td>\n",
       "      <td>0</td>\n",
       "      <td>3</td>\n",
       "      <td>3</td>\n",
       "      <td>3</td>\n",
       "      <td>1.000000</td>\n",
       "      <td>1.000000</td>\n",
       "      <td>1.000000</td>\n",
       "      <td>0.230769</td>\n",
       "      <td>0.037975</td>\n",
       "      <td>0.037037</td>\n",
       "      <td>2.67</td>\n",
       "    </tr>\n",
       "  </tbody>\n",
       "</table>\n",
       "</div>"
      ],
      "text/plain": [
       "   cos_description_tfidf  cos_title_tfidf    ...      jc_attribute  relevance\n",
       "0               0.181655         0.408386    ...          0.000000       3.00\n",
       "1               0.000000         0.000000    ...          0.000000       2.50\n",
       "2               0.000000         0.000000    ...          0.000000       3.00\n",
       "3               0.068423         0.577868    ...          0.024390       2.33\n",
       "4               0.079600         0.267189    ...          0.037037       2.67\n",
       "\n",
       "[5 rows x 24 columns]"
      ]
     },
     "execution_count": 4,
     "metadata": {},
     "output_type": "execute_result"
    }
   ],
   "source": [
    "train_df.head()"
   ]
  },
  {
   "cell_type": "code",
   "execution_count": 5,
   "metadata": {
    "_uuid": "42d3d65a353910fc1d1740a77de4949734e0bb49"
   },
   "outputs": [],
   "source": [
    "x_train = train_df.iloc[:,:-1].values\n",
    "y_train = train_df.iloc[:,-1:].values\n",
    "x_test = test_df[:].values\n"
   ]
  },
  {
   "cell_type": "code",
   "execution_count": 6,
   "metadata": {
    "_uuid": "f01c92273017ee401a8ced9596b76562a069e667"
   },
   "outputs": [],
   "source": [
    "random_st = 1024\n",
    "x_tr, x_te, y_tr, y_te = train_test_split(x_train, y_train, random_state = random_st)"
   ]
  },
  {
   "cell_type": "code",
   "execution_count": 7,
   "metadata": {
    "_uuid": "c4a5a6870dacf3e0667cbc71890845c24424abc3"
   },
   "outputs": [
    {
     "data": {
      "image/png": "[encoded data removed]",
      "text/plain": [
       "<Figure size 720x720 with 1 Axes>"
      ]
     },
     "metadata": {},
     "output_type": "display_data"
    }
   ],
   "source": [
    "params = {'learning_rate': 0.02, 'max_depth': 7, 'min_samples_leaf': 9, 'n_estimators': 300}\n",
    "model = GradientBoostingRegressor(max_features=0.8, min_samples_split = 5,subsample= 0.9, **params)\n",
    "model.fit(x_train, y_train)\n",
    "y_pred = model.predict(x_test)\n",
    "features = train_df.columns\n",
    "importances = model.feature_importances_\n",
    "indices = np.argsort(importances)\n",
    "plt.figure(figsize = (10,10))\n",
    "plt.title('Feature Importances')\n",
    "plt.barh(range(len(indices)), importances[indices], color='b', align='center')\n",
    "plt.yticks(range(len(indices)), [features[i] for i in indices])\n",
    "plt.xlabel('Relative Importance')\n",
    "plt.show()\n",
    "\n",
    "ts = pd.read_csv(\"../input/csc-575-final-project-kaggle-winter-2019/sample_submission_new.csv\")\n",
    "\n",
    "ts.relevance = y_pred\n",
    "\n",
    "ts.to_csv(\"sub_reduced.csv\",index = None)"
   ]
  }
 ],
 "metadata": {
  "kernelspec": {
   "display_name": "Python 3",
   "language": "python",
   "name": "python3"
  },
  "language_info": {
   "codemirror_mode": {
    "name": "ipython",
    "version": 3
   },
   "file_extension": ".py",
   "mimetype": "text/x-python",
   "name": "python",
   "nbconvert_exporter": "python",
   "pygments_lexer": "ipython3",
   "version": "3.6.8"
  }
 },
 "nbformat": 4,
 "nbformat_minor": 1
}
